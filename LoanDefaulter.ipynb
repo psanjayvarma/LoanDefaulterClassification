{
 "cells": [
  {
   "cell_type": "markdown",
   "id": "e2073f7f",
   "metadata": {},
   "source": [
    "# Data Exploration"
   ]
  },
  {
   "cell_type": "code",
   "execution_count": 1,
   "id": "ec188f0f",
   "metadata": {},
   "outputs": [],
   "source": [
    "#importing the required libraries\n",
    "import numpy as np\n",
    "import matplotlib.pyplot as plt\n",
    "import pandas as pd\n",
    "import seaborn as sns\n",
    "pd.options.mode.chained_assignment = None"
   ]
  },
  {
   "cell_type": "code",
   "execution_count": 2,
   "id": "2392fb62",
   "metadata": {},
   "outputs": [
    {
     "data": {
      "text/html": [
       "<div>\n",
       "<style scoped>\n",
       "    .dataframe tbody tr th:only-of-type {\n",
       "        vertical-align: middle;\n",
       "    }\n",
       "\n",
       "    .dataframe tbody tr th {\n",
       "        vertical-align: top;\n",
       "    }\n",
       "\n",
       "    .dataframe thead th {\n",
       "        text-align: right;\n",
       "    }\n",
       "</style>\n",
       "<table border=\"1\" class=\"dataframe\">\n",
       "  <thead>\n",
       "    <tr style=\"text-align: right;\">\n",
       "      <th></th>\n",
       "      <th>Id</th>\n",
       "      <th>Income</th>\n",
       "      <th>Age</th>\n",
       "      <th>Experience</th>\n",
       "      <th>Married/Single</th>\n",
       "      <th>House_Ownership</th>\n",
       "      <th>Car_Ownership</th>\n",
       "      <th>Profession</th>\n",
       "      <th>CITY</th>\n",
       "      <th>STATE</th>\n",
       "      <th>CURRENT_JOB_YRS</th>\n",
       "      <th>CURRENT_HOUSE_YRS</th>\n",
       "      <th>Risk_Flag</th>\n",
       "    </tr>\n",
       "  </thead>\n",
       "  <tbody>\n",
       "    <tr>\n",
       "      <th>0</th>\n",
       "      <td>1</td>\n",
       "      <td>1303834</td>\n",
       "      <td>23</td>\n",
       "      <td>3</td>\n",
       "      <td>single</td>\n",
       "      <td>rented</td>\n",
       "      <td>no</td>\n",
       "      <td>Mechanical_engineer</td>\n",
       "      <td>Rewa</td>\n",
       "      <td>Madhya_Pradesh</td>\n",
       "      <td>3</td>\n",
       "      <td>13</td>\n",
       "      <td>0</td>\n",
       "    </tr>\n",
       "    <tr>\n",
       "      <th>1</th>\n",
       "      <td>2</td>\n",
       "      <td>7574516</td>\n",
       "      <td>40</td>\n",
       "      <td>10</td>\n",
       "      <td>single</td>\n",
       "      <td>rented</td>\n",
       "      <td>no</td>\n",
       "      <td>Software_Developer</td>\n",
       "      <td>Parbhani</td>\n",
       "      <td>Maharashtra</td>\n",
       "      <td>9</td>\n",
       "      <td>13</td>\n",
       "      <td>0</td>\n",
       "    </tr>\n",
       "    <tr>\n",
       "      <th>2</th>\n",
       "      <td>3</td>\n",
       "      <td>3991815</td>\n",
       "      <td>66</td>\n",
       "      <td>4</td>\n",
       "      <td>married</td>\n",
       "      <td>rented</td>\n",
       "      <td>no</td>\n",
       "      <td>Technical_writer</td>\n",
       "      <td>Alappuzha</td>\n",
       "      <td>Kerala</td>\n",
       "      <td>4</td>\n",
       "      <td>10</td>\n",
       "      <td>0</td>\n",
       "    </tr>\n",
       "    <tr>\n",
       "      <th>3</th>\n",
       "      <td>4</td>\n",
       "      <td>6256451</td>\n",
       "      <td>41</td>\n",
       "      <td>2</td>\n",
       "      <td>single</td>\n",
       "      <td>rented</td>\n",
       "      <td>yes</td>\n",
       "      <td>Software_Developer</td>\n",
       "      <td>Bhubaneswar</td>\n",
       "      <td>Odisha</td>\n",
       "      <td>2</td>\n",
       "      <td>12</td>\n",
       "      <td>1</td>\n",
       "    </tr>\n",
       "    <tr>\n",
       "      <th>4</th>\n",
       "      <td>5</td>\n",
       "      <td>5768871</td>\n",
       "      <td>47</td>\n",
       "      <td>11</td>\n",
       "      <td>single</td>\n",
       "      <td>rented</td>\n",
       "      <td>no</td>\n",
       "      <td>Civil_servant</td>\n",
       "      <td>Tiruchirappalli[10]</td>\n",
       "      <td>Tamil_Nadu</td>\n",
       "      <td>3</td>\n",
       "      <td>14</td>\n",
       "      <td>1</td>\n",
       "    </tr>\n",
       "  </tbody>\n",
       "</table>\n",
       "</div>"
      ],
      "text/plain": [
       "   Id   Income  Age  Experience Married/Single House_Ownership Car_Ownership  \\\n",
       "0   1  1303834   23           3         single          rented            no   \n",
       "1   2  7574516   40          10         single          rented            no   \n",
       "2   3  3991815   66           4        married          rented            no   \n",
       "3   4  6256451   41           2         single          rented           yes   \n",
       "4   5  5768871   47          11         single          rented            no   \n",
       "\n",
       "            Profession                 CITY           STATE  CURRENT_JOB_YRS  \\\n",
       "0  Mechanical_engineer                 Rewa  Madhya_Pradesh                3   \n",
       "1   Software_Developer             Parbhani     Maharashtra                9   \n",
       "2     Technical_writer            Alappuzha          Kerala                4   \n",
       "3   Software_Developer          Bhubaneswar          Odisha                2   \n",
       "4        Civil_servant  Tiruchirappalli[10]      Tamil_Nadu                3   \n",
       "\n",
       "   CURRENT_HOUSE_YRS  Risk_Flag  \n",
       "0                 13          0  \n",
       "1                 13          0  \n",
       "2                 10          0  \n",
       "3                 12          1  \n",
       "4                 14          1  "
      ]
     },
     "execution_count": 2,
     "metadata": {},
     "output_type": "execute_result"
    }
   ],
   "source": [
    "# importing data and reading csv file\n",
    "data = pd.read_csv(\"Training Data.csv\")\n",
    "data.head()"
   ]
  },
  {
   "cell_type": "code",
   "execution_count": 3,
   "id": "cb55573a",
   "metadata": {},
   "outputs": [
    {
     "name": "stdout",
     "output_type": "stream",
     "text": [
      "<class 'pandas.core.frame.DataFrame'>\n",
      "RangeIndex: 252000 entries, 0 to 251999\n",
      "Data columns (total 13 columns):\n",
      " #   Column             Non-Null Count   Dtype \n",
      "---  ------             --------------   ----- \n",
      " 0   Id                 252000 non-null  int64 \n",
      " 1   Income             252000 non-null  int64 \n",
      " 2   Age                252000 non-null  int64 \n",
      " 3   Experience         252000 non-null  int64 \n",
      " 4   Married/Single     252000 non-null  object\n",
      " 5   House_Ownership    252000 non-null  object\n",
      " 6   Car_Ownership      252000 non-null  object\n",
      " 7   Profession         252000 non-null  object\n",
      " 8   CITY               252000 non-null  object\n",
      " 9   STATE              252000 non-null  object\n",
      " 10  CURRENT_JOB_YRS    252000 non-null  int64 \n",
      " 11  CURRENT_HOUSE_YRS  252000 non-null  int64 \n",
      " 12  Risk_Flag          252000 non-null  int64 \n",
      "dtypes: int64(7), object(6)\n",
      "memory usage: 25.0+ MB\n"
     ]
    }
   ],
   "source": [
    "data.info()"
   ]
  },
  {
   "cell_type": "code",
   "execution_count": 4,
   "id": "4943312c",
   "metadata": {},
   "outputs": [
    {
     "data": {
      "text/html": [
       "<div>\n",
       "<style scoped>\n",
       "    .dataframe tbody tr th:only-of-type {\n",
       "        vertical-align: middle;\n",
       "    }\n",
       "\n",
       "    .dataframe tbody tr th {\n",
       "        vertical-align: top;\n",
       "    }\n",
       "\n",
       "    .dataframe thead th {\n",
       "        text-align: right;\n",
       "    }\n",
       "</style>\n",
       "<table border=\"1\" class=\"dataframe\">\n",
       "  <thead>\n",
       "    <tr style=\"text-align: right;\">\n",
       "      <th></th>\n",
       "      <th>Id</th>\n",
       "      <th>Income</th>\n",
       "      <th>Age</th>\n",
       "      <th>Experience</th>\n",
       "      <th>CURRENT_JOB_YRS</th>\n",
       "      <th>CURRENT_HOUSE_YRS</th>\n",
       "      <th>Risk_Flag</th>\n",
       "    </tr>\n",
       "  </thead>\n",
       "  <tbody>\n",
       "    <tr>\n",
       "      <th>count</th>\n",
       "      <td>252000.000000</td>\n",
       "      <td>2.520000e+05</td>\n",
       "      <td>252000.000000</td>\n",
       "      <td>252000.000000</td>\n",
       "      <td>252000.000000</td>\n",
       "      <td>252000.000000</td>\n",
       "      <td>252000.000000</td>\n",
       "    </tr>\n",
       "    <tr>\n",
       "      <th>mean</th>\n",
       "      <td>126000.500000</td>\n",
       "      <td>4.997117e+06</td>\n",
       "      <td>49.954071</td>\n",
       "      <td>10.084437</td>\n",
       "      <td>6.333877</td>\n",
       "      <td>11.997794</td>\n",
       "      <td>0.123000</td>\n",
       "    </tr>\n",
       "    <tr>\n",
       "      <th>std</th>\n",
       "      <td>72746.278255</td>\n",
       "      <td>2.878311e+06</td>\n",
       "      <td>17.063855</td>\n",
       "      <td>6.002590</td>\n",
       "      <td>3.647053</td>\n",
       "      <td>1.399037</td>\n",
       "      <td>0.328438</td>\n",
       "    </tr>\n",
       "    <tr>\n",
       "      <th>min</th>\n",
       "      <td>1.000000</td>\n",
       "      <td>1.031000e+04</td>\n",
       "      <td>21.000000</td>\n",
       "      <td>0.000000</td>\n",
       "      <td>0.000000</td>\n",
       "      <td>10.000000</td>\n",
       "      <td>0.000000</td>\n",
       "    </tr>\n",
       "    <tr>\n",
       "      <th>25%</th>\n",
       "      <td>63000.750000</td>\n",
       "      <td>2.503015e+06</td>\n",
       "      <td>35.000000</td>\n",
       "      <td>5.000000</td>\n",
       "      <td>3.000000</td>\n",
       "      <td>11.000000</td>\n",
       "      <td>0.000000</td>\n",
       "    </tr>\n",
       "    <tr>\n",
       "      <th>50%</th>\n",
       "      <td>126000.500000</td>\n",
       "      <td>5.000694e+06</td>\n",
       "      <td>50.000000</td>\n",
       "      <td>10.000000</td>\n",
       "      <td>6.000000</td>\n",
       "      <td>12.000000</td>\n",
       "      <td>0.000000</td>\n",
       "    </tr>\n",
       "    <tr>\n",
       "      <th>75%</th>\n",
       "      <td>189000.250000</td>\n",
       "      <td>7.477502e+06</td>\n",
       "      <td>65.000000</td>\n",
       "      <td>15.000000</td>\n",
       "      <td>9.000000</td>\n",
       "      <td>13.000000</td>\n",
       "      <td>0.000000</td>\n",
       "    </tr>\n",
       "    <tr>\n",
       "      <th>max</th>\n",
       "      <td>252000.000000</td>\n",
       "      <td>9.999938e+06</td>\n",
       "      <td>79.000000</td>\n",
       "      <td>20.000000</td>\n",
       "      <td>14.000000</td>\n",
       "      <td>14.000000</td>\n",
       "      <td>1.000000</td>\n",
       "    </tr>\n",
       "  </tbody>\n",
       "</table>\n",
       "</div>"
      ],
      "text/plain": [
       "                  Id        Income            Age     Experience  \\\n",
       "count  252000.000000  2.520000e+05  252000.000000  252000.000000   \n",
       "mean   126000.500000  4.997117e+06      49.954071      10.084437   \n",
       "std     72746.278255  2.878311e+06      17.063855       6.002590   \n",
       "min         1.000000  1.031000e+04      21.000000       0.000000   \n",
       "25%     63000.750000  2.503015e+06      35.000000       5.000000   \n",
       "50%    126000.500000  5.000694e+06      50.000000      10.000000   \n",
       "75%    189000.250000  7.477502e+06      65.000000      15.000000   \n",
       "max    252000.000000  9.999938e+06      79.000000      20.000000   \n",
       "\n",
       "       CURRENT_JOB_YRS  CURRENT_HOUSE_YRS      Risk_Flag  \n",
       "count    252000.000000      252000.000000  252000.000000  \n",
       "mean          6.333877          11.997794       0.123000  \n",
       "std           3.647053           1.399037       0.328438  \n",
       "min           0.000000          10.000000       0.000000  \n",
       "25%           3.000000          11.000000       0.000000  \n",
       "50%           6.000000          12.000000       0.000000  \n",
       "75%           9.000000          13.000000       0.000000  \n",
       "max          14.000000          14.000000       1.000000  "
      ]
     },
     "execution_count": 4,
     "metadata": {},
     "output_type": "execute_result"
    }
   ],
   "source": [
    "data.describe()"
   ]
  },
  {
   "cell_type": "code",
   "execution_count": 5,
   "id": "0dd23a75",
   "metadata": {},
   "outputs": [
    {
     "data": {
      "text/plain": [
       "Id                   0\n",
       "Income               0\n",
       "Age                  0\n",
       "Experience           0\n",
       "Married/Single       0\n",
       "House_Ownership      0\n",
       "Car_Ownership        0\n",
       "Profession           0\n",
       "CITY                 0\n",
       "STATE                0\n",
       "CURRENT_JOB_YRS      0\n",
       "CURRENT_HOUSE_YRS    0\n",
       "Risk_Flag            0\n",
       "dtype: int64"
      ]
     },
     "execution_count": 5,
     "metadata": {},
     "output_type": "execute_result"
    }
   ],
   "source": [
    "# finding missing values in each coloum of the data\n",
    "data.isna().sum()"
   ]
  },
  {
   "cell_type": "code",
   "execution_count": 6,
   "id": "69cf0de2",
   "metadata": {},
   "outputs": [],
   "source": [
    "#drop the ID as it is not necessary \n",
    "data = data.drop(['Id'], axis=1)"
   ]
  },
  {
   "cell_type": "code",
   "execution_count": 7,
   "id": "04eb025c",
   "metadata": {},
   "outputs": [
    {
     "name": "stdout",
     "output_type": "stream",
     "text": [
      "0    87.7\n",
      "1    12.3\n",
      "Name: Risk_Flag, dtype: float64\n"
     ]
    }
   ],
   "source": [
    "# finding target variable ratio\n",
    "print(data['Risk_Flag'].value_counts(normalize=True)*100)"
   ]
  },
  {
   "cell_type": "code",
   "execution_count": 8,
   "id": "d83fe45c",
   "metadata": {},
   "outputs": [],
   "source": [
    "# function to plot histogram\n",
    "def plot_histogram(data, labels):\n",
    "    for label in labels:\n",
    "        hist_data = data[label].value_counts(normalize=True)\n",
    "        plt.title('Histogram: ' + label)\n",
    "        plt.barh(y=hist_data.index, width=hist_data*100)\n",
    "        \n",
    "        plt.xlabel('Percentage (%)')\n",
    "        plt.tight_layout()\n",
    "        plt.show()"
   ]
  },
  {
   "cell_type": "code",
   "execution_count": 9,
   "id": "46fa7f54",
   "metadata": {
    "scrolled": false
   },
   "outputs": [
    {
     "data": {
      "image/png": "[encoded data removed]",
      "text/plain": [
       "<Figure size 432x288 with 1 Axes>"
      ]
     },
     "metadata": {
      "needs_background": "light"
     },
     "output_type": "display_data"
    },
    {
     "data": {
      "image/png": "[encoded data removed]",
      "text/plain": [
       "<Figure size 432x288 with 1 Axes>"
      ]
     },
     "metadata": {
      "needs_background": "light"
     },
     "output_type": "display_data"
    },
    {
     "data": {
      "image/png": "[encoded data removed]",
      "text/plain": [
       "<Figure size 432x288 with 1 Axes>"
      ]
     },
     "metadata": {
      "needs_background": "light"
     },
     "output_type": "display_data"
    },
    {
     "data": {
      "image/png": "[encoded data removed]",
      "text/plain": [
       "<Figure size 432x288 with 1 Axes>"
      ]
     },
     "metadata": {
      "needs_background": "light"
     },
     "output_type": "display_data"
    },
    {
     "data": {
      "image/png": "[encoded data removed]",
      "text/plain": [
       "<Figure size 432x288 with 1 Axes>"
      ]
     },
     "metadata": {
      "needs_background": "light"
     },
     "output_type": "display_data"
    },
    {
     "data": {
      "image/png": "[encoded data removed]",
      "text/plain": [
       "<Figure size 432x288 with 1 Axes>"
      ]
     },
     "metadata": {
      "needs_background": "light"
     },
     "output_type": "display_data"
    },
    {
     "data": {
      "image/png": "[encoded data removed]",
      "text/plain": [
       "<Figure size 432x288 with 1 Axes>"
      ]
     },
     "metadata": {
      "needs_background": "light"
     },
     "output_type": "display_data"
    },
    {
     "data": {
      "image/png": "[encoded data removed]",
      "text/plain": [
       "<Figure size 432x288 with 1 Axes>"
      ]
     },
     "metadata": {
      "needs_background": "light"
     },
     "output_type": "display_data"
    },
    {
     "data": {
      "image/png": "[encoded data removed]",
      "text/plain": [
       "<Figure size 432x288 with 1 Axes>"
      ]
     },
     "metadata": {
      "needs_background": "light"
     },
     "output_type": "display_data"
    }
   ],
   "source": [
    "#Data distribution of each feature\n",
    "labels = ['Age', 'Experience', 'Married/Single', 'House_Ownership', 'Car_Ownership', 'Profession', 'STATE','CURRENT_JOB_YRS', 'CURRENT_HOUSE_YRS' ]\n",
    "plot_histogram(data, labels)\n"
   ]
  },
  {
   "cell_type": "code",
   "execution_count": 10,
   "id": "7ed558c7",
   "metadata": {},
   "outputs": [],
   "source": [
    "#data Cleaning\n",
    "# renaming few column names\n",
    "data.rename(columns={'Married/Single':'Is_Married', 'Car_Ownership': 'Has_Car'},inplace=True)"
   ]
  },
  {
   "cell_type": "code",
   "execution_count": 11,
   "id": "8ba06474",
   "metadata": {
    "scrolled": false
   },
   "outputs": [
    {
     "data": {
      "text/html": [
       "<div>\n",
       "<style scoped>\n",
       "    .dataframe tbody tr th:only-of-type {\n",
       "        vertical-align: middle;\n",
       "    }\n",
       "\n",
       "    .dataframe tbody tr th {\n",
       "        vertical-align: top;\n",
       "    }\n",
       "\n",
       "    .dataframe thead th {\n",
       "        text-align: right;\n",
       "    }\n",
       "</style>\n",
       "<table border=\"1\" class=\"dataframe\">\n",
       "  <thead>\n",
       "    <tr style=\"text-align: right;\">\n",
       "      <th></th>\n",
       "      <th>Income</th>\n",
       "      <th>Age</th>\n",
       "      <th>Experience</th>\n",
       "      <th>Is_Married</th>\n",
       "      <th>House_Ownership</th>\n",
       "      <th>Has_Car</th>\n",
       "      <th>Profession</th>\n",
       "      <th>CITY</th>\n",
       "      <th>STATE</th>\n",
       "      <th>CURRENT_JOB_YRS</th>\n",
       "      <th>CURRENT_HOUSE_YRS</th>\n",
       "      <th>Risk_Flag</th>\n",
       "    </tr>\n",
       "  </thead>\n",
       "  <tbody>\n",
       "    <tr>\n",
       "      <th>0</th>\n",
       "      <td>1303834</td>\n",
       "      <td>23</td>\n",
       "      <td>3</td>\n",
       "      <td>single</td>\n",
       "      <td>rented</td>\n",
       "      <td>no</td>\n",
       "      <td>Mechanical_engineer</td>\n",
       "      <td>Rewa</td>\n",
       "      <td>Madhya_Pradesh</td>\n",
       "      <td>3</td>\n",
       "      <td>13</td>\n",
       "      <td>0</td>\n",
       "    </tr>\n",
       "    <tr>\n",
       "      <th>1</th>\n",
       "      <td>7574516</td>\n",
       "      <td>40</td>\n",
       "      <td>10</td>\n",
       "      <td>single</td>\n",
       "      <td>rented</td>\n",
       "      <td>no</td>\n",
       "      <td>Software_Developer</td>\n",
       "      <td>Parbhani</td>\n",
       "      <td>Maharashtra</td>\n",
       "      <td>9</td>\n",
       "      <td>13</td>\n",
       "      <td>0</td>\n",
       "    </tr>\n",
       "    <tr>\n",
       "      <th>2</th>\n",
       "      <td>3991815</td>\n",
       "      <td>66</td>\n",
       "      <td>4</td>\n",
       "      <td>married</td>\n",
       "      <td>rented</td>\n",
       "      <td>no</td>\n",
       "      <td>Technical_writer</td>\n",
       "      <td>Alappuzha</td>\n",
       "      <td>Kerala</td>\n",
       "      <td>4</td>\n",
       "      <td>10</td>\n",
       "      <td>0</td>\n",
       "    </tr>\n",
       "    <tr>\n",
       "      <th>3</th>\n",
       "      <td>6256451</td>\n",
       "      <td>41</td>\n",
       "      <td>2</td>\n",
       "      <td>single</td>\n",
       "      <td>rented</td>\n",
       "      <td>yes</td>\n",
       "      <td>Software_Developer</td>\n",
       "      <td>Bhubaneswar</td>\n",
       "      <td>Odisha</td>\n",
       "      <td>2</td>\n",
       "      <td>12</td>\n",
       "      <td>1</td>\n",
       "    </tr>\n",
       "    <tr>\n",
       "      <th>4</th>\n",
       "      <td>5768871</td>\n",
       "      <td>47</td>\n",
       "      <td>11</td>\n",
       "      <td>single</td>\n",
       "      <td>rented</td>\n",
       "      <td>no</td>\n",
       "      <td>Civil_servant</td>\n",
       "      <td>Tiruchirappalli[10]</td>\n",
       "      <td>Tamil_Nadu</td>\n",
       "      <td>3</td>\n",
       "      <td>14</td>\n",
       "      <td>1</td>\n",
       "    </tr>\n",
       "  </tbody>\n",
       "</table>\n",
       "</div>"
      ],
      "text/plain": [
       "    Income  Age  Experience Is_Married House_Ownership Has_Car  \\\n",
       "0  1303834   23           3     single          rented      no   \n",
       "1  7574516   40          10     single          rented      no   \n",
       "2  3991815   66           4    married          rented      no   \n",
       "3  6256451   41           2     single          rented     yes   \n",
       "4  5768871   47          11     single          rented      no   \n",
       "\n",
       "            Profession                 CITY           STATE  CURRENT_JOB_YRS  \\\n",
       "0  Mechanical_engineer                 Rewa  Madhya_Pradesh                3   \n",
       "1   Software_Developer             Parbhani     Maharashtra                9   \n",
       "2     Technical_writer            Alappuzha          Kerala                4   \n",
       "3   Software_Developer          Bhubaneswar          Odisha                2   \n",
       "4        Civil_servant  Tiruchirappalli[10]      Tamil_Nadu                3   \n",
       "\n",
       "   CURRENT_HOUSE_YRS  Risk_Flag  \n",
       "0                 13          0  \n",
       "1                 13          0  \n",
       "2                 10          0  \n",
       "3                 12          1  \n",
       "4                 14          1  "
      ]
     },
     "execution_count": 11,
     "metadata": {},
     "output_type": "execute_result"
    }
   ],
   "source": [
    "data.head()"
   ]
  },
  {
   "cell_type": "markdown",
   "id": "62ea0119",
   "metadata": {},
   "source": [
    "# Encoding data"
   ]
  },
  {
   "cell_type": "markdown",
   "id": "fb5c85e9",
   "metadata": {},
   "source": [
    "## Labe Encoding"
   ]
  },
  {
   "cell_type": "code",
   "execution_count": 12,
   "id": "c9c9c8a0",
   "metadata": {},
   "outputs": [],
   "source": [
    "#function to implement label encoding\n",
    "from sklearn import preprocessing\n",
    "\n",
    "def labelEncoding(data, labels):\n",
    "    for label in labels:  \n",
    "        le = preprocessing.LabelEncoder()\n",
    "        le.fit(data[label])\n",
    "        df.loc[:, label] = le.transform(data[label].copy())\n",
    "        \n",
    "    return df"
   ]
  },
  {
   "cell_type": "code",
   "execution_count": 13,
   "id": "65f91e74",
   "metadata": {},
   "outputs": [
    {
     "data": {
      "text/html": [
       "<div>\n",
       "<style scoped>\n",
       "    .dataframe tbody tr th:only-of-type {\n",
       "        vertical-align: middle;\n",
       "    }\n",
       "\n",
       "    .dataframe tbody tr th {\n",
       "        vertical-align: top;\n",
       "    }\n",
       "\n",
       "    .dataframe thead th {\n",
       "        text-align: right;\n",
       "    }\n",
       "</style>\n",
       "<table border=\"1\" class=\"dataframe\">\n",
       "  <thead>\n",
       "    <tr style=\"text-align: right;\">\n",
       "      <th></th>\n",
       "      <th>Income</th>\n",
       "      <th>Age</th>\n",
       "      <th>Experience</th>\n",
       "      <th>Is_Married</th>\n",
       "      <th>House_Ownership</th>\n",
       "      <th>Has_Car</th>\n",
       "      <th>Profession</th>\n",
       "      <th>CITY</th>\n",
       "      <th>STATE</th>\n",
       "      <th>CURRENT_JOB_YRS</th>\n",
       "      <th>CURRENT_HOUSE_YRS</th>\n",
       "      <th>Risk_Flag</th>\n",
       "    </tr>\n",
       "  </thead>\n",
       "  <tbody>\n",
       "    <tr>\n",
       "      <th>0</th>\n",
       "      <td>1303834</td>\n",
       "      <td>23</td>\n",
       "      <td>3</td>\n",
       "      <td>1</td>\n",
       "      <td>2</td>\n",
       "      <td>0</td>\n",
       "      <td>33</td>\n",
       "      <td>251</td>\n",
       "      <td>13</td>\n",
       "      <td>3</td>\n",
       "      <td>13</td>\n",
       "      <td>0</td>\n",
       "    </tr>\n",
       "    <tr>\n",
       "      <th>1</th>\n",
       "      <td>7574516</td>\n",
       "      <td>40</td>\n",
       "      <td>10</td>\n",
       "      <td>1</td>\n",
       "      <td>2</td>\n",
       "      <td>0</td>\n",
       "      <td>43</td>\n",
       "      <td>227</td>\n",
       "      <td>14</td>\n",
       "      <td>9</td>\n",
       "      <td>13</td>\n",
       "      <td>0</td>\n",
       "    </tr>\n",
       "    <tr>\n",
       "      <th>2</th>\n",
       "      <td>3991815</td>\n",
       "      <td>66</td>\n",
       "      <td>4</td>\n",
       "      <td>0</td>\n",
       "      <td>2</td>\n",
       "      <td>0</td>\n",
       "      <td>47</td>\n",
       "      <td>8</td>\n",
       "      <td>12</td>\n",
       "      <td>4</td>\n",
       "      <td>10</td>\n",
       "      <td>0</td>\n",
       "    </tr>\n",
       "    <tr>\n",
       "      <th>3</th>\n",
       "      <td>6256451</td>\n",
       "      <td>41</td>\n",
       "      <td>2</td>\n",
       "      <td>1</td>\n",
       "      <td>2</td>\n",
       "      <td>1</td>\n",
       "      <td>43</td>\n",
       "      <td>54</td>\n",
       "      <td>17</td>\n",
       "      <td>2</td>\n",
       "      <td>12</td>\n",
       "      <td>1</td>\n",
       "    </tr>\n",
       "    <tr>\n",
       "      <th>4</th>\n",
       "      <td>5768871</td>\n",
       "      <td>47</td>\n",
       "      <td>11</td>\n",
       "      <td>1</td>\n",
       "      <td>2</td>\n",
       "      <td>0</td>\n",
       "      <td>11</td>\n",
       "      <td>296</td>\n",
       "      <td>22</td>\n",
       "      <td>3</td>\n",
       "      <td>14</td>\n",
       "      <td>1</td>\n",
       "    </tr>\n",
       "  </tbody>\n",
       "</table>\n",
       "</div>"
      ],
      "text/plain": [
       "    Income  Age  Experience  Is_Married  House_Ownership  Has_Car  Profession  \\\n",
       "0  1303834   23           3           1                2        0          33   \n",
       "1  7574516   40          10           1                2        0          43   \n",
       "2  3991815   66           4           0                2        0          47   \n",
       "3  6256451   41           2           1                2        1          43   \n",
       "4  5768871   47          11           1                2        0          11   \n",
       "\n",
       "   CITY  STATE  CURRENT_JOB_YRS  CURRENT_HOUSE_YRS  Risk_Flag  \n",
       "0   251     13                3                 13          0  \n",
       "1   227     14                9                 13          0  \n",
       "2     8     12                4                 10          0  \n",
       "3    54     17                2                 12          1  \n",
       "4   296     22                3                 14          1  "
      ]
     },
     "execution_count": 13,
     "metadata": {},
     "output_type": "execute_result"
    }
   ],
   "source": [
    "#making a copy of the data and performing label encoding on the copied data\n",
    "df = data.copy()\n",
    "labels = ['Is_Married', 'House_Ownership', 'Has_Car', 'Profession', 'CITY', 'STATE']\n",
    "df = labelEncoding(df, labels)\n",
    "df.head()"
   ]
  },
  {
   "cell_type": "markdown",
   "id": "2ca3c6cc",
   "metadata": {},
   "source": [
    "## One Hot Encoding"
   ]
  },
  {
   "cell_type": "code",
   "execution_count": 14,
   "id": "8f178fc3",
   "metadata": {},
   "outputs": [
    {
     "data": {
      "text/html": [
       "<div>\n",
       "<style scoped>\n",
       "    .dataframe tbody tr th:only-of-type {\n",
       "        vertical-align: middle;\n",
       "    }\n",
       "\n",
       "    .dataframe tbody tr th {\n",
       "        vertical-align: top;\n",
       "    }\n",
       "\n",
       "    .dataframe thead th {\n",
       "        text-align: right;\n",
       "    }\n",
       "</style>\n",
       "<table border=\"1\" class=\"dataframe\">\n",
       "  <thead>\n",
       "    <tr style=\"text-align: right;\">\n",
       "      <th></th>\n",
       "      <th>Income</th>\n",
       "      <th>Age</th>\n",
       "      <th>Experience</th>\n",
       "      <th>Is_Married</th>\n",
       "      <th>House_Ownership</th>\n",
       "      <th>Has_Car</th>\n",
       "      <th>Profession</th>\n",
       "      <th>CITY</th>\n",
       "      <th>STATE</th>\n",
       "      <th>CURRENT_JOB_YRS</th>\n",
       "      <th>CURRENT_HOUSE_YRS</th>\n",
       "      <th>Risk_Flag</th>\n",
       "    </tr>\n",
       "  </thead>\n",
       "  <tbody>\n",
       "    <tr>\n",
       "      <th>0</th>\n",
       "      <td>1303834</td>\n",
       "      <td>23</td>\n",
       "      <td>3</td>\n",
       "      <td>0</td>\n",
       "      <td>rented</td>\n",
       "      <td>0</td>\n",
       "      <td>Mechanical_engineer</td>\n",
       "      <td>Rewa</td>\n",
       "      <td>Madhya_Pradesh</td>\n",
       "      <td>3</td>\n",
       "      <td>13</td>\n",
       "      <td>0</td>\n",
       "    </tr>\n",
       "    <tr>\n",
       "      <th>1</th>\n",
       "      <td>7574516</td>\n",
       "      <td>40</td>\n",
       "      <td>10</td>\n",
       "      <td>0</td>\n",
       "      <td>rented</td>\n",
       "      <td>0</td>\n",
       "      <td>Software_Developer</td>\n",
       "      <td>Parbhani</td>\n",
       "      <td>Maharashtra</td>\n",
       "      <td>9</td>\n",
       "      <td>13</td>\n",
       "      <td>0</td>\n",
       "    </tr>\n",
       "    <tr>\n",
       "      <th>2</th>\n",
       "      <td>3991815</td>\n",
       "      <td>66</td>\n",
       "      <td>4</td>\n",
       "      <td>1</td>\n",
       "      <td>rented</td>\n",
       "      <td>0</td>\n",
       "      <td>Technical_writer</td>\n",
       "      <td>Alappuzha</td>\n",
       "      <td>Kerala</td>\n",
       "      <td>4</td>\n",
       "      <td>10</td>\n",
       "      <td>0</td>\n",
       "    </tr>\n",
       "    <tr>\n",
       "      <th>3</th>\n",
       "      <td>6256451</td>\n",
       "      <td>41</td>\n",
       "      <td>2</td>\n",
       "      <td>0</td>\n",
       "      <td>rented</td>\n",
       "      <td>1</td>\n",
       "      <td>Software_Developer</td>\n",
       "      <td>Bhubaneswar</td>\n",
       "      <td>Odisha</td>\n",
       "      <td>2</td>\n",
       "      <td>12</td>\n",
       "      <td>1</td>\n",
       "    </tr>\n",
       "    <tr>\n",
       "      <th>4</th>\n",
       "      <td>5768871</td>\n",
       "      <td>47</td>\n",
       "      <td>11</td>\n",
       "      <td>0</td>\n",
       "      <td>rented</td>\n",
       "      <td>0</td>\n",
       "      <td>Civil_servant</td>\n",
       "      <td>Tiruchirappalli[10]</td>\n",
       "      <td>Tamil_Nadu</td>\n",
       "      <td>3</td>\n",
       "      <td>14</td>\n",
       "      <td>1</td>\n",
       "    </tr>\n",
       "  </tbody>\n",
       "</table>\n",
       "</div>"
      ],
      "text/plain": [
       "    Income  Age  Experience  Is_Married House_Ownership  Has_Car  \\\n",
       "0  1303834   23           3           0          rented        0   \n",
       "1  7574516   40          10           0          rented        0   \n",
       "2  3991815   66           4           1          rented        0   \n",
       "3  6256451   41           2           0          rented        1   \n",
       "4  5768871   47          11           0          rented        0   \n",
       "\n",
       "            Profession                 CITY           STATE  CURRENT_JOB_YRS  \\\n",
       "0  Mechanical_engineer                 Rewa  Madhya_Pradesh                3   \n",
       "1   Software_Developer             Parbhani     Maharashtra                9   \n",
       "2     Technical_writer            Alappuzha          Kerala                4   \n",
       "3   Software_Developer          Bhubaneswar          Odisha                2   \n",
       "4        Civil_servant  Tiruchirappalli[10]      Tamil_Nadu                3   \n",
       "\n",
       "   CURRENT_HOUSE_YRS  Risk_Flag  \n",
       "0                 13          0  \n",
       "1                 13          0  \n",
       "2                 10          0  \n",
       "3                 12          1  \n",
       "4                 14          1  "
      ]
     },
     "execution_count": 14,
     "metadata": {},
     "output_type": "execute_result"
    }
   ],
   "source": [
    "#coverting Is_Married and Has_Car colums to binary\n",
    "df1 = data\n",
    "df1['Is_Married'].replace('single', 0, inplace=True)\n",
    "df1['Is_Married'].replace('married', 1, inplace=True)\n",
    "df1['Has_Car'].replace('no', 0, inplace=True)\n",
    "df1['Has_Car'].replace('yes', 1, inplace=True)\n",
    "df1.head()"
   ]
  },
  {
   "cell_type": "code",
   "execution_count": 15,
   "id": "233b512b",
   "metadata": {},
   "outputs": [],
   "source": [
    "labels = ['House_Ownership', 'Profession', 'CITY', 'STATE']\n",
    "df1 = pd.get_dummies(df1)"
   ]
  },
  {
   "cell_type": "code",
   "execution_count": 16,
   "id": "72d80d95",
   "metadata": {},
   "outputs": [
    {
     "data": {
      "text/html": [
       "<div>\n",
       "<style scoped>\n",
       "    .dataframe tbody tr th:only-of-type {\n",
       "        vertical-align: middle;\n",
       "    }\n",
       "\n",
       "    .dataframe tbody tr th {\n",
       "        vertical-align: top;\n",
       "    }\n",
       "\n",
       "    .dataframe thead th {\n",
       "        text-align: right;\n",
       "    }\n",
       "</style>\n",
       "<table border=\"1\" class=\"dataframe\">\n",
       "  <thead>\n",
       "    <tr style=\"text-align: right;\">\n",
       "      <th></th>\n",
       "      <th>House_Ownership_norent_noown</th>\n",
       "      <th>House_Ownership_owned</th>\n",
       "      <th>House_Ownership_rented</th>\n",
       "    </tr>\n",
       "  </thead>\n",
       "  <tbody>\n",
       "    <tr>\n",
       "      <th>0</th>\n",
       "      <td>0</td>\n",
       "      <td>0</td>\n",
       "      <td>1</td>\n",
       "    </tr>\n",
       "    <tr>\n",
       "      <th>1</th>\n",
       "      <td>0</td>\n",
       "      <td>0</td>\n",
       "      <td>1</td>\n",
       "    </tr>\n",
       "    <tr>\n",
       "      <th>2</th>\n",
       "      <td>0</td>\n",
       "      <td>0</td>\n",
       "      <td>1</td>\n",
       "    </tr>\n",
       "    <tr>\n",
       "      <th>3</th>\n",
       "      <td>0</td>\n",
       "      <td>0</td>\n",
       "      <td>1</td>\n",
       "    </tr>\n",
       "    <tr>\n",
       "      <th>4</th>\n",
       "      <td>0</td>\n",
       "      <td>0</td>\n",
       "      <td>1</td>\n",
       "    </tr>\n",
       "  </tbody>\n",
       "</table>\n",
       "</div>"
      ],
      "text/plain": [
       "   House_Ownership_norent_noown  House_Ownership_owned  House_Ownership_rented\n",
       "0                             0                      0                       1\n",
       "1                             0                      0                       1\n",
       "2                             0                      0                       1\n",
       "3                             0                      0                       1\n",
       "4                             0                      0                       1"
      ]
     },
     "execution_count": 16,
     "metadata": {},
     "output_type": "execute_result"
    }
   ],
   "source": [
    "df1.iloc[:,8:11].head()"
   ]
  },
  {
   "cell_type": "markdown",
   "id": "86d6dc20",
   "metadata": {},
   "source": [
    "# Building Model "
   ]
  },
  {
   "cell_type": "code",
   "execution_count": 17,
   "id": "b739f546",
   "metadata": {},
   "outputs": [],
   "source": [
    "#importing the required models from the sklearn\n",
    "from sklearn.linear_model import LogisticRegression\n",
    "from sklearn.naive_bayes import GaussianNB\n",
    "from sklearn.ensemble import AdaBoostClassifier\n",
    "from sklearn.tree import DecisionTreeClassifier\n",
    "from sklearn.ensemble import RandomForestClassifier\n",
    "from xgboost import XGBClassifier\n",
    "from sklearn import svm\n",
    "from sklearn.neighbors import KNeighborsClassifier\n",
    "\n",
    "#appending all models into models list so that we can loop all models\n",
    "models = []\n",
    "models.append(('Logistic Regression', LogisticRegression(solver='lbfgs', max_iter=1000)))\n",
    "models.append(('Naïve Bayes', GaussianNB()))\n",
    "models.append(('Decision Tree', DecisionTreeClassifier()))\n",
    "models.append(('Random Forest Classifier', RandomForestClassifier()))\n",
    "models.append(('AdaBoost Classifier', AdaBoostClassifier()))\n",
    "models.append(('XGBoost', XGBClassifier(use_label_encoder=False, eval_metric='mlogloss')))\n",
    "#commenting these models as these models exexution time is more than expected\n",
    "#models.append(('SVM', svm.SVC()))\n",
    "#models.append(('KNN',  KNeighborsClassifier(n_neighbors=3)))"
   ]
  },
  {
   "cell_type": "code",
   "execution_count": 18,
   "id": "c50f2c43",
   "metadata": {},
   "outputs": [],
   "source": [
    "#building models and calculating metrics including ploting Roc curve and confussion matrix\n",
    "from sklearn import metrics\n",
    "from sklearn.model_selection import train_test_split\n",
    "from sklearn.metrics import confusion_matrix\n",
    "\n",
    "def createModel(X,y):\n",
    "    #Spliting dataset to build model\n",
    "    test_validation = 0.3\n",
    "    random_no = 78\n",
    "    X_train, X_test, y_train, y_test = train_test_split(X, y, test_size= test_validation, random_state=random_no)\n",
    "    for name, model in models:\n",
    "        this_model = model\n",
    "        this_model.fit(X_train, y_train)\n",
    "        y_pred = this_model.predict(X_test)\n",
    "        print()\n",
    "        print(name)\n",
    "        print(\"Accuracy:\",metrics.accuracy_score(y_test, y_pred))\n",
    "        print(\"Precision:\",metrics.precision_score(y_test, y_pred))\n",
    "        print(\"Recall:\",metrics.recall_score(y_test, y_pred))\n",
    "        print(\"F1 score:\", metrics.f1_score(y_test, y_pred))\n",
    "        y_pred_proba = this_model.predict_proba(X_test)[::,1]\n",
    "        fpr, tpr, _ = metrics.roc_curve(y_test,  y_pred_proba)\n",
    "        auc = metrics.roc_auc_score(y_test, y_pred_proba)\n",
    "        print(\"AUC:\"+str(auc))\n",
    "        plt.plot(fpr,tpr,label=\"data, auc=\"+str(auc))\n",
    "        plt.legend(loc=4)\n",
    "        plt.show()\n",
    "        print(confusion_matrix(y_test, y_pred))"
   ]
  },
  {
   "cell_type": "markdown",
   "id": "0debdc27",
   "metadata": {},
   "source": [
    "# Relation between features"
   ]
  },
  {
   "cell_type": "code",
   "execution_count": 19,
   "id": "495ae428",
   "metadata": {},
   "outputs": [
    {
     "data": {
      "text/html": [
       "<style  type=\"text/css\" >\n",
       "#T_67fad_row0_col0,#T_67fad_row1_col1,#T_67fad_row2_col2,#T_67fad_row3_col3,#T_67fad_row4_col4,#T_67fad_row5_col5,#T_67fad_row6_col6,#T_67fad_row7_col7,#T_67fad_row8_col8,#T_67fad_row9_col9,#T_67fad_row10_col10,#T_67fad_row11_col11{\n",
       "            background-color:  #b40426;\n",
       "            color:  #f1f1f1;\n",
       "        }#T_67fad_row0_col1,#T_67fad_row2_col1,#T_67fad_row2_col3,#T_67fad_row4_col0,#T_67fad_row4_col5,#T_67fad_row4_col7,#T_67fad_row5_col3,#T_67fad_row5_col4,#T_67fad_row5_col6,#T_67fad_row5_col10,#T_67fad_row6_col4,#T_67fad_row6_col9,#T_67fad_row6_col10,#T_67fad_row7_col1{\n",
       "            background-color:  #4055c8;\n",
       "            color:  #f1f1f1;\n",
       "        }#T_67fad_row0_col2,#T_67fad_row5_col2,#T_67fad_row11_col3,#T_67fad_row11_col7{\n",
       "            background-color:  #465ecf;\n",
       "            color:  #f1f1f1;\n",
       "        }#T_67fad_row0_col3,#T_67fad_row3_col5,#T_67fad_row4_col2,#T_67fad_row7_col5,#T_67fad_row7_col6,#T_67fad_row8_col10,#T_67fad_row9_col1,#T_67fad_row9_col3,#T_67fad_row9_col10,#T_67fad_row10_col5,#T_67fad_row10_col7{\n",
       "            background-color:  #4257c9;\n",
       "            color:  #f1f1f1;\n",
       "        }#T_67fad_row0_col4,#T_67fad_row1_col7,#T_67fad_row2_col8,#T_67fad_row2_col10,#T_67fad_row5_col7,#T_67fad_row5_col9,#T_67fad_row6_col8,#T_67fad_row7_col11{\n",
       "            background-color:  #455cce;\n",
       "            color:  #f1f1f1;\n",
       "        }#T_67fad_row0_col5,#T_67fad_row0_col11,#T_67fad_row1_col9,#T_67fad_row2_col5,#T_67fad_row3_col8,#T_67fad_row3_col9,#T_67fad_row4_col8,#T_67fad_row5_col1,#T_67fad_row6_col11,#T_67fad_row8_col11,#T_67fad_row10_col11{\n",
       "            background-color:  #4358cb;\n",
       "            color:  #f1f1f1;\n",
       "        }#T_67fad_row0_col6,#T_67fad_row2_col0,#T_67fad_row2_col6,#T_67fad_row4_col6,#T_67fad_row5_col0,#T_67fad_row5_col11,#T_67fad_row7_col2,#T_67fad_row7_col4,#T_67fad_row7_col10,#T_67fad_row8_col6,#T_67fad_row9_col0,#T_67fad_row9_col7,#T_67fad_row10_col6,#T_67fad_row11_col9{\n",
       "            background-color:  #3d50c3;\n",
       "            color:  #f1f1f1;\n",
       "        }#T_67fad_row0_col7,#T_67fad_row0_col8,#T_67fad_row0_col9,#T_67fad_row1_col2,#T_67fad_row1_col5,#T_67fad_row1_col8,#T_67fad_row3_col2,#T_67fad_row6_col2,#T_67fad_row6_col5,#T_67fad_row7_col3,#T_67fad_row8_col2,#T_67fad_row8_col9,#T_67fad_row9_col5,#T_67fad_row10_col9,#T_67fad_row11_col8{\n",
       "            background-color:  #445acc;\n",
       "            color:  #f1f1f1;\n",
       "        }#T_67fad_row0_col10,#T_67fad_row1_col3,#T_67fad_row3_col1,#T_67fad_row4_col9,#T_67fad_row8_col1,#T_67fad_row9_col11,#T_67fad_row10_col4{\n",
       "            background-color:  #3f53c6;\n",
       "            color:  #f1f1f1;\n",
       "        }#T_67fad_row1_col0,#T_67fad_row1_col6,#T_67fad_row1_col10,#T_67fad_row2_col11,#T_67fad_row3_col4,#T_67fad_row3_col6,#T_67fad_row4_col3,#T_67fad_row7_col0,#T_67fad_row7_col8,#T_67fad_row7_col9,#T_67fad_row8_col0,#T_67fad_row8_col7,#T_67fad_row10_col0,#T_67fad_row10_col1,#T_67fad_row11_col0,#T_67fad_row11_col1,#T_67fad_row11_col2,#T_67fad_row11_col5,#T_67fad_row11_col6{\n",
       "            background-color:  #3b4cc0;\n",
       "            color:  #f1f1f1;\n",
       "        }#T_67fad_row1_col4,#T_67fad_row1_col11,#T_67fad_row2_col4,#T_67fad_row2_col7,#T_67fad_row3_col10,#T_67fad_row4_col1,#T_67fad_row4_col10,#T_67fad_row6_col1,#T_67fad_row6_col3,#T_67fad_row8_col3,#T_67fad_row8_col4,#T_67fad_row9_col4,#T_67fad_row10_col3,#T_67fad_row11_col10{\n",
       "            background-color:  #3e51c5;\n",
       "            color:  #f1f1f1;\n",
       "        }#T_67fad_row2_col9{\n",
       "            background-color:  #f7bca1;\n",
       "            color:  #000000;\n",
       "        }#T_67fad_row3_col0,#T_67fad_row6_col0,#T_67fad_row9_col6{\n",
       "            background-color:  #3c4ec2;\n",
       "            color:  #f1f1f1;\n",
       "        }#T_67fad_row3_col7,#T_67fad_row8_col5{\n",
       "            background-color:  #4961d2;\n",
       "            color:  #f1f1f1;\n",
       "        }#T_67fad_row3_col11,#T_67fad_row10_col2{\n",
       "            background-color:  #4a63d3;\n",
       "            color:  #f1f1f1;\n",
       "        }#T_67fad_row4_col11,#T_67fad_row6_col7{\n",
       "            background-color:  #4b64d5;\n",
       "            color:  #f1f1f1;\n",
       "        }#T_67fad_row5_col8{\n",
       "            background-color:  #4c66d6;\n",
       "            color:  #000000;\n",
       "        }#T_67fad_row9_col2{\n",
       "            background-color:  #f7ba9f;\n",
       "            color:  #000000;\n",
       "        }#T_67fad_row9_col8,#T_67fad_row10_col8,#T_67fad_row11_col4{\n",
       "            background-color:  #485fd1;\n",
       "            color:  #f1f1f1;\n",
       "        }</style><table id=\"T_67fad_\" ><thead>    <tr>        <th class=\"blank level0\" ></th>        <th class=\"col_heading level0 col0\" >Income</th>        <th class=\"col_heading level0 col1\" >Age</th>        <th class=\"col_heading level0 col2\" >Experience</th>        <th class=\"col_heading level0 col3\" >Is_Married</th>        <th class=\"col_heading level0 col4\" >House_Ownership</th>        <th class=\"col_heading level0 col5\" >Has_Car</th>        <th class=\"col_heading level0 col6\" >Profession</th>        <th class=\"col_heading level0 col7\" >CITY</th>        <th class=\"col_heading level0 col8\" >STATE</th>        <th class=\"col_heading level0 col9\" >CURRENT_JOB_YRS</th>        <th class=\"col_heading level0 col10\" >CURRENT_HOUSE_YRS</th>        <th class=\"col_heading level0 col11\" >Risk_Flag</th>    </tr></thead><tbody>\n",
       "                <tr>\n",
       "                        <th id=\"T_67fad_level0_row0\" class=\"row_heading level0 row0\" >Income</th>\n",
       "                        <td id=\"T_67fad_row0_col0\" class=\"data row0 col0\" >1.000000</td>\n",
       "                        <td id=\"T_67fad_row0_col1\" class=\"data row0 col1\" >-0.000652</td>\n",
       "                        <td id=\"T_67fad_row0_col2\" class=\"data row0 col2\" >0.006422</td>\n",
       "                        <td id=\"T_67fad_row0_col3\" class=\"data row0 col3\" >0.002682</td>\n",
       "                        <td id=\"T_67fad_row0_col4\" class=\"data row0 col4\" >0.016433</td>\n",
       "                        <td id=\"T_67fad_row0_col5\" class=\"data row0 col5\" >0.004068</td>\n",
       "                        <td id=\"T_67fad_row0_col6\" class=\"data row0 col6\" >0.000725</td>\n",
       "                        <td id=\"T_67fad_row0_col7\" class=\"data row0 col7\" >-0.001919</td>\n",
       "                        <td id=\"T_67fad_row0_col8\" class=\"data row0 col8\" >-0.004067</td>\n",
       "                        <td id=\"T_67fad_row0_col9\" class=\"data row0 col9\" >0.007045</td>\n",
       "                        <td id=\"T_67fad_row0_col10\" class=\"data row0 col10\" >-0.002397</td>\n",
       "                        <td id=\"T_67fad_row0_col11\" class=\"data row0 col11\" >-0.003091</td>\n",
       "            </tr>\n",
       "            <tr>\n",
       "                        <th id=\"T_67fad_level0_row1\" class=\"row_heading level0 row1\" >Age</th>\n",
       "                        <td id=\"T_67fad_row1_col0\" class=\"data row1 col0\" >-0.000652</td>\n",
       "                        <td id=\"T_67fad_row1_col1\" class=\"data row1 col1\" >1.000000</td>\n",
       "                        <td id=\"T_67fad_row1_col2\" class=\"data row1 col2\" >-0.001118</td>\n",
       "                        <td id=\"T_67fad_row1_col3\" class=\"data row1 col3\" >-0.005323</td>\n",
       "                        <td id=\"T_67fad_row1_col4\" class=\"data row1 col4\" >-0.009820</td>\n",
       "                        <td id=\"T_67fad_row1_col5\" class=\"data row1 col5\" >0.009395</td>\n",
       "                        <td id=\"T_67fad_row1_col6\" class=\"data row1 col6\" >-0.008551</td>\n",
       "                        <td id=\"T_67fad_row1_col7\" class=\"data row1 col7\" >0.002104</td>\n",
       "                        <td id=\"T_67fad_row1_col8\" class=\"data row1 col8\" >-0.004985</td>\n",
       "                        <td id=\"T_67fad_row1_col9\" class=\"data row1 col9\" >0.002154</td>\n",
       "                        <td id=\"T_67fad_row1_col10\" class=\"data row1 col10\" >-0.020134</td>\n",
       "                        <td id=\"T_67fad_row1_col11\" class=\"data row1 col11\" >-0.021809</td>\n",
       "            </tr>\n",
       "            <tr>\n",
       "                        <th id=\"T_67fad_level0_row2\" class=\"row_heading level0 row2\" >Experience</th>\n",
       "                        <td id=\"T_67fad_row2_col0\" class=\"data row2 col0\" >0.006422</td>\n",
       "                        <td id=\"T_67fad_row2_col1\" class=\"data row2 col1\" >-0.001118</td>\n",
       "                        <td id=\"T_67fad_row2_col2\" class=\"data row2 col2\" >1.000000</td>\n",
       "                        <td id=\"T_67fad_row2_col3\" class=\"data row2 col3\" >-0.001752</td>\n",
       "                        <td id=\"T_67fad_row2_col4\" class=\"data row2 col4\" >-0.007912</td>\n",
       "                        <td id=\"T_67fad_row2_col5\" class=\"data row2 col5\" >0.007519</td>\n",
       "                        <td id=\"T_67fad_row2_col6\" class=\"data row2 col6\" >0.000975</td>\n",
       "                        <td id=\"T_67fad_row2_col7\" class=\"data row2 col7\" >-0.025703</td>\n",
       "                        <td id=\"T_67fad_row2_col8\" class=\"data row2 col8\" >-0.001251</td>\n",
       "                        <td id=\"T_67fad_row2_col9\" class=\"data row2 col9\" >0.646098</td>\n",
       "                        <td id=\"T_67fad_row2_col10\" class=\"data row2 col10\" >0.019309</td>\n",
       "                        <td id=\"T_67fad_row2_col11\" class=\"data row2 col11\" >-0.034523</td>\n",
       "            </tr>\n",
       "            <tr>\n",
       "                        <th id=\"T_67fad_level0_row3\" class=\"row_heading level0 row3\" >Is_Married</th>\n",
       "                        <td id=\"T_67fad_row3_col0\" class=\"data row3 col0\" >0.002682</td>\n",
       "                        <td id=\"T_67fad_row3_col1\" class=\"data row3 col1\" >-0.005323</td>\n",
       "                        <td id=\"T_67fad_row3_col2\" class=\"data row3 col2\" >-0.001752</td>\n",
       "                        <td id=\"T_67fad_row3_col3\" class=\"data row3 col3\" >1.000000</td>\n",
       "                        <td id=\"T_67fad_row3_col4\" class=\"data row3 col4\" >-0.022501</td>\n",
       "                        <td id=\"T_67fad_row3_col5\" class=\"data row3 col5\" >0.001206</td>\n",
       "                        <td id=\"T_67fad_row3_col6\" class=\"data row3 col6\" >-0.007534</td>\n",
       "                        <td id=\"T_67fad_row3_col7\" class=\"data row3 col7\" >0.012280</td>\n",
       "                        <td id=\"T_67fad_row3_col8\" class=\"data row3 col8\" >-0.009477</td>\n",
       "                        <td id=\"T_67fad_row3_col9\" class=\"data row3 col9\" >0.004251</td>\n",
       "                        <td id=\"T_67fad_row3_col10\" class=\"data row3 col10\" >-0.007539</td>\n",
       "                        <td id=\"T_67fad_row3_col11\" class=\"data row3 col11\" >0.021092</td>\n",
       "            </tr>\n",
       "            <tr>\n",
       "                        <th id=\"T_67fad_level0_row4\" class=\"row_heading level0 row4\" >House_Ownership</th>\n",
       "                        <td id=\"T_67fad_row4_col0\" class=\"data row4 col0\" >0.016433</td>\n",
       "                        <td id=\"T_67fad_row4_col1\" class=\"data row4 col1\" >-0.009820</td>\n",
       "                        <td id=\"T_67fad_row4_col2\" class=\"data row4 col2\" >-0.007912</td>\n",
       "                        <td id=\"T_67fad_row4_col3\" class=\"data row4 col3\" >-0.022501</td>\n",
       "                        <td id=\"T_67fad_row4_col4\" class=\"data row4 col4\" >1.000000</td>\n",
       "                        <td id=\"T_67fad_row4_col5\" class=\"data row4 col5\" >-0.001233</td>\n",
       "                        <td id=\"T_67fad_row4_col6\" class=\"data row4 col6\" >0.001242</td>\n",
       "                        <td id=\"T_67fad_row4_col7\" class=\"data row4 col7\" >-0.014447</td>\n",
       "                        <td id=\"T_67fad_row4_col8\" class=\"data row4 col8\" >-0.007792</td>\n",
       "                        <td id=\"T_67fad_row4_col9\" class=\"data row4 col9\" >-0.009790</td>\n",
       "                        <td id=\"T_67fad_row4_col10\" class=\"data row4 col10\" >-0.005618</td>\n",
       "                        <td id=\"T_67fad_row4_col11\" class=\"data row4 col11\" >0.023622</td>\n",
       "            </tr>\n",
       "            <tr>\n",
       "                        <th id=\"T_67fad_level0_row5\" class=\"row_heading level0 row5\" >Has_Car</th>\n",
       "                        <td id=\"T_67fad_row5_col0\" class=\"data row5 col0\" >0.004068</td>\n",
       "                        <td id=\"T_67fad_row5_col1\" class=\"data row5 col1\" >0.009395</td>\n",
       "                        <td id=\"T_67fad_row5_col2\" class=\"data row5 col2\" >0.007519</td>\n",
       "                        <td id=\"T_67fad_row5_col3\" class=\"data row5 col3\" >0.001206</td>\n",
       "                        <td id=\"T_67fad_row5_col4\" class=\"data row5 col4\" >-0.001233</td>\n",
       "                        <td id=\"T_67fad_row5_col5\" class=\"data row5 col5\" >1.000000</td>\n",
       "                        <td id=\"T_67fad_row5_col6\" class=\"data row5 col6\" >0.011887</td>\n",
       "                        <td id=\"T_67fad_row5_col7\" class=\"data row5 col7\" >0.001648</td>\n",
       "                        <td id=\"T_67fad_row5_col8\" class=\"data row5 col8\" >0.026000</td>\n",
       "                        <td id=\"T_67fad_row5_col9\" class=\"data row5 col9\" >0.011099</td>\n",
       "                        <td id=\"T_67fad_row5_col10\" class=\"data row5 col10\" >0.000251</td>\n",
       "                        <td id=\"T_67fad_row5_col11\" class=\"data row5 col11\" >-0.024036</td>\n",
       "            </tr>\n",
       "            <tr>\n",
       "                        <th id=\"T_67fad_level0_row6\" class=\"row_heading level0 row6\" >Profession</th>\n",
       "                        <td id=\"T_67fad_row6_col0\" class=\"data row6 col0\" >0.000725</td>\n",
       "                        <td id=\"T_67fad_row6_col1\" class=\"data row6 col1\" >-0.008551</td>\n",
       "                        <td id=\"T_67fad_row6_col2\" class=\"data row6 col2\" >0.000975</td>\n",
       "                        <td id=\"T_67fad_row6_col3\" class=\"data row6 col3\" >-0.007534</td>\n",
       "                        <td id=\"T_67fad_row6_col4\" class=\"data row6 col4\" >0.001242</td>\n",
       "                        <td id=\"T_67fad_row6_col5\" class=\"data row6 col5\" >0.011887</td>\n",
       "                        <td id=\"T_67fad_row6_col6\" class=\"data row6 col6\" >1.000000</td>\n",
       "                        <td id=\"T_67fad_row6_col7\" class=\"data row6 col7\" >0.018852</td>\n",
       "                        <td id=\"T_67fad_row6_col8\" class=\"data row6 col8\" >0.001557</td>\n",
       "                        <td id=\"T_67fad_row6_col9\" class=\"data row6 col9\" >-0.004536</td>\n",
       "                        <td id=\"T_67fad_row6_col10\" class=\"data row6 col10\" >0.001954</td>\n",
       "                        <td id=\"T_67fad_row6_col11\" class=\"data row6 col11\" >-0.004900</td>\n",
       "            </tr>\n",
       "            <tr>\n",
       "                        <th id=\"T_67fad_level0_row7\" class=\"row_heading level0 row7\" >CITY</th>\n",
       "                        <td id=\"T_67fad_row7_col0\" class=\"data row7 col0\" >-0.001919</td>\n",
       "                        <td id=\"T_67fad_row7_col1\" class=\"data row7 col1\" >0.002104</td>\n",
       "                        <td id=\"T_67fad_row7_col2\" class=\"data row7 col2\" >-0.025703</td>\n",
       "                        <td id=\"T_67fad_row7_col3\" class=\"data row7 col3\" >0.012280</td>\n",
       "                        <td id=\"T_67fad_row7_col4\" class=\"data row7 col4\" >-0.014447</td>\n",
       "                        <td id=\"T_67fad_row7_col5\" class=\"data row7 col5\" >0.001648</td>\n",
       "                        <td id=\"T_67fad_row7_col6\" class=\"data row7 col6\" >0.018852</td>\n",
       "                        <td id=\"T_67fad_row7_col7\" class=\"data row7 col7\" >1.000000</td>\n",
       "                        <td id=\"T_67fad_row7_col8\" class=\"data row7 col8\" >-0.038040</td>\n",
       "                        <td id=\"T_67fad_row7_col9\" class=\"data row7 col9\" >-0.027353</td>\n",
       "                        <td id=\"T_67fad_row7_col10\" class=\"data row7 col10\" >-0.010654</td>\n",
       "                        <td id=\"T_67fad_row7_col11\" class=\"data row7 col11\" >0.004575</td>\n",
       "            </tr>\n",
       "            <tr>\n",
       "                        <th id=\"T_67fad_level0_row8\" class=\"row_heading level0 row8\" >STATE</th>\n",
       "                        <td id=\"T_67fad_row8_col0\" class=\"data row8 col0\" >-0.004067</td>\n",
       "                        <td id=\"T_67fad_row8_col1\" class=\"data row8 col1\" >-0.004985</td>\n",
       "                        <td id=\"T_67fad_row8_col2\" class=\"data row8 col2\" >-0.001251</td>\n",
       "                        <td id=\"T_67fad_row8_col3\" class=\"data row8 col3\" >-0.009477</td>\n",
       "                        <td id=\"T_67fad_row8_col4\" class=\"data row8 col4\" >-0.007792</td>\n",
       "                        <td id=\"T_67fad_row8_col5\" class=\"data row8 col5\" >0.026000</td>\n",
       "                        <td id=\"T_67fad_row8_col6\" class=\"data row8 col6\" >0.001557</td>\n",
       "                        <td id=\"T_67fad_row8_col7\" class=\"data row8 col7\" >-0.038040</td>\n",
       "                        <td id=\"T_67fad_row8_col8\" class=\"data row8 col8\" >1.000000</td>\n",
       "                        <td id=\"T_67fad_row8_col9\" class=\"data row8 col9\" >0.008745</td>\n",
       "                        <td id=\"T_67fad_row8_col10\" class=\"data row8 col10\" >0.007281</td>\n",
       "                        <td id=\"T_67fad_row8_col11\" class=\"data row8 col11\" >-0.003401</td>\n",
       "            </tr>\n",
       "            <tr>\n",
       "                        <th id=\"T_67fad_level0_row9\" class=\"row_heading level0 row9\" >CURRENT_JOB_YRS</th>\n",
       "                        <td id=\"T_67fad_row9_col0\" class=\"data row9 col0\" >0.007045</td>\n",
       "                        <td id=\"T_67fad_row9_col1\" class=\"data row9 col1\" >0.002154</td>\n",
       "                        <td id=\"T_67fad_row9_col2\" class=\"data row9 col2\" >0.646098</td>\n",
       "                        <td id=\"T_67fad_row9_col3\" class=\"data row9 col3\" >0.004251</td>\n",
       "                        <td id=\"T_67fad_row9_col4\" class=\"data row9 col4\" >-0.009790</td>\n",
       "                        <td id=\"T_67fad_row9_col5\" class=\"data row9 col5\" >0.011099</td>\n",
       "                        <td id=\"T_67fad_row9_col6\" class=\"data row9 col6\" >-0.004536</td>\n",
       "                        <td id=\"T_67fad_row9_col7\" class=\"data row9 col7\" >-0.027353</td>\n",
       "                        <td id=\"T_67fad_row9_col8\" class=\"data row9 col8\" >0.008745</td>\n",
       "                        <td id=\"T_67fad_row9_col9\" class=\"data row9 col9\" >1.000000</td>\n",
       "                        <td id=\"T_67fad_row9_col10\" class=\"data row9 col10\" >0.005372</td>\n",
       "                        <td id=\"T_67fad_row9_col11\" class=\"data row9 col11\" >-0.016942</td>\n",
       "            </tr>\n",
       "            <tr>\n",
       "                        <th id=\"T_67fad_level0_row10\" class=\"row_heading level0 row10\" >CURRENT_HOUSE_YRS</th>\n",
       "                        <td id=\"T_67fad_row10_col0\" class=\"data row10 col0\" >-0.002397</td>\n",
       "                        <td id=\"T_67fad_row10_col1\" class=\"data row10 col1\" >-0.020134</td>\n",
       "                        <td id=\"T_67fad_row10_col2\" class=\"data row10 col2\" >0.019309</td>\n",
       "                        <td id=\"T_67fad_row10_col3\" class=\"data row10 col3\" >-0.007539</td>\n",
       "                        <td id=\"T_67fad_row10_col4\" class=\"data row10 col4\" >-0.005618</td>\n",
       "                        <td id=\"T_67fad_row10_col5\" class=\"data row10 col5\" >0.000251</td>\n",
       "                        <td id=\"T_67fad_row10_col6\" class=\"data row10 col6\" >0.001954</td>\n",
       "                        <td id=\"T_67fad_row10_col7\" class=\"data row10 col7\" >-0.010654</td>\n",
       "                        <td id=\"T_67fad_row10_col8\" class=\"data row10 col8\" >0.007281</td>\n",
       "                        <td id=\"T_67fad_row10_col9\" class=\"data row10 col9\" >0.005372</td>\n",
       "                        <td id=\"T_67fad_row10_col10\" class=\"data row10 col10\" >1.000000</td>\n",
       "                        <td id=\"T_67fad_row10_col11\" class=\"data row10 col11\" >-0.004375</td>\n",
       "            </tr>\n",
       "            <tr>\n",
       "                        <th id=\"T_67fad_level0_row11\" class=\"row_heading level0 row11\" >Risk_Flag</th>\n",
       "                        <td id=\"T_67fad_row11_col0\" class=\"data row11 col0\" >-0.003091</td>\n",
       "                        <td id=\"T_67fad_row11_col1\" class=\"data row11 col1\" >-0.021809</td>\n",
       "                        <td id=\"T_67fad_row11_col2\" class=\"data row11 col2\" >-0.034523</td>\n",
       "                        <td id=\"T_67fad_row11_col3\" class=\"data row11 col3\" >0.021092</td>\n",
       "                        <td id=\"T_67fad_row11_col4\" class=\"data row11 col4\" >0.023622</td>\n",
       "                        <td id=\"T_67fad_row11_col5\" class=\"data row11 col5\" >-0.024036</td>\n",
       "                        <td id=\"T_67fad_row11_col6\" class=\"data row11 col6\" >-0.004900</td>\n",
       "                        <td id=\"T_67fad_row11_col7\" class=\"data row11 col7\" >0.004575</td>\n",
       "                        <td id=\"T_67fad_row11_col8\" class=\"data row11 col8\" >-0.003401</td>\n",
       "                        <td id=\"T_67fad_row11_col9\" class=\"data row11 col9\" >-0.016942</td>\n",
       "                        <td id=\"T_67fad_row11_col10\" class=\"data row11 col10\" >-0.004375</td>\n",
       "                        <td id=\"T_67fad_row11_col11\" class=\"data row11 col11\" >1.000000</td>\n",
       "            </tr>\n",
       "    </tbody></table>"
      ],
      "text/plain": [
       "<pandas.io.formats.style.Styler at 0x7fbd2344e5e0>"
      ]
     },
     "execution_count": 19,
     "metadata": {},
     "output_type": "execute_result"
    }
   ],
   "source": [
    "#ploting co-relation matrix\n",
    "corr = df.corr()\n",
    "corr.style.background_gradient(cmap='coolwarm')"
   ]
  },
  {
   "cell_type": "code",
   "execution_count": 20,
   "id": "ac4e6be2",
   "metadata": {},
   "outputs": [
    {
     "data": {
      "text/plain": [
       "Text(0.5, 1.0, 'Average Income by Age')"
      ]
     },
     "execution_count": 20,
     "metadata": {},
     "output_type": "execute_result"
    },
    {
     "data": {
      "image/png": "[encoded data removed]",
      "text/plain": [
       "<Figure size 1080x360 with 1 Axes>"
      ]
     },
     "metadata": {
      "needs_background": "light"
     },
     "output_type": "display_data"
    }
   ],
   "source": [
    "# plotting relation between age and income\n",
    "plt.subplots(figsize=(15,5))\n",
    "sns.barplot(data=df, x='Age', y='Income')\n",
    "plt.plot(df['Income'].mean() * np.ones(df['Age'].nunique()), label='General average', color='red')\n",
    "plt.title(\"Average Income by Age\")"
   ]
  },
  {
   "cell_type": "code",
   "execution_count": 21,
   "id": "b196b879",
   "metadata": {},
   "outputs": [
    {
     "data": {
      "text/plain": [
       "Text(0.5, 1.0, 'Average Income by Profession')"
      ]
     },
     "execution_count": 21,
     "metadata": {},
     "output_type": "execute_result"
    },
    {
     "data": {
      "image/png": "[encoded data removed]",
      "text/plain": [
       "<Figure size 1080x360 with 1 Axes>"
      ]
     },
     "metadata": {
      "needs_background": "light"
     },
     "output_type": "display_data"
    }
   ],
   "source": [
    "# plotting relation between Profession and income\n",
    "plt.subplots(figsize=(15,5))\n",
    "sns.barplot(data=df, x='Profession', y='Income')\n",
    "plt.plot(df['Income'].mean() * np.ones(df['Profession'].nunique()), label='General average', color='red')\n",
    "plt.title(\"Average Income by Profession\")"
   ]
  },
  {
   "cell_type": "code",
   "execution_count": 22,
   "id": "fe2c30e9",
   "metadata": {},
   "outputs": [
    {
     "data": {
      "text/plain": [
       "Text(0.5, 1.0, 'Average Income by State')"
      ]
     },
     "execution_count": 22,
     "metadata": {},
     "output_type": "execute_result"
    },
    {
     "data": {
      "image/png": "[encoded data removed]",
      "text/plain": [
       "<Figure size 1080x360 with 1 Axes>"
      ]
     },
     "metadata": {
      "needs_background": "light"
     },
     "output_type": "display_data"
    }
   ],
   "source": [
    "# plotting relation between State and income\n",
    "plt.subplots(figsize=(15,5))\n",
    "sns.barplot(data=df, x='STATE', y='Income')\n",
    "plt.plot(df['Income'].mean() * np.ones(df['STATE'].nunique()), label='General average', color='red')\n",
    "plt.title(\"Average Income by State\")"
   ]
  },
  {
   "cell_type": "code",
   "execution_count": 23,
   "id": "c4c7723b",
   "metadata": {},
   "outputs": [
    {
     "data": {
      "text/html": [
       "<div>\n",
       "<style scoped>\n",
       "    .dataframe tbody tr th:only-of-type {\n",
       "        vertical-align: middle;\n",
       "    }\n",
       "\n",
       "    .dataframe tbody tr th {\n",
       "        vertical-align: top;\n",
       "    }\n",
       "\n",
       "    .dataframe thead th {\n",
       "        text-align: right;\n",
       "    }\n",
       "</style>\n",
       "<table border=\"1\" class=\"dataframe\">\n",
       "  <thead>\n",
       "    <tr style=\"text-align: right;\">\n",
       "      <th></th>\n",
       "      <th></th>\n",
       "      <th>0</th>\n",
       "    </tr>\n",
       "    <tr>\n",
       "      <th>Risk_Flag</th>\n",
       "      <th>STATE</th>\n",
       "      <th></th>\n",
       "    </tr>\n",
       "  </thead>\n",
       "  <tbody>\n",
       "    <tr>\n",
       "      <th rowspan=\"29\" valign=\"top\">0</th>\n",
       "      <th>0</th>\n",
       "      <td>22362</td>\n",
       "    </tr>\n",
       "    <tr>\n",
       "      <th>1</th>\n",
       "      <td>6132</td>\n",
       "    </tr>\n",
       "    <tr>\n",
       "      <th>2</th>\n",
       "      <td>17197</td>\n",
       "    </tr>\n",
       "    <tr>\n",
       "      <th>3</th>\n",
       "      <td>595</td>\n",
       "    </tr>\n",
       "    <tr>\n",
       "      <th>4</th>\n",
       "      <td>3323</td>\n",
       "    </tr>\n",
       "    <tr>\n",
       "      <th>5</th>\n",
       "      <td>4916</td>\n",
       "    </tr>\n",
       "    <tr>\n",
       "      <th>6</th>\n",
       "      <td>10065</td>\n",
       "    </tr>\n",
       "    <tr>\n",
       "      <th>7</th>\n",
       "      <td>6910</td>\n",
       "    </tr>\n",
       "    <tr>\n",
       "      <th>8</th>\n",
       "      <td>722</td>\n",
       "    </tr>\n",
       "    <tr>\n",
       "      <th>9</th>\n",
       "      <td>1497</td>\n",
       "    </tr>\n",
       "    <tr>\n",
       "      <th>10</th>\n",
       "      <td>7770</td>\n",
       "    </tr>\n",
       "    <tr>\n",
       "      <th>11</th>\n",
       "      <td>10666</td>\n",
       "    </tr>\n",
       "    <tr>\n",
       "      <th>12</th>\n",
       "      <td>4835</td>\n",
       "    </tr>\n",
       "    <tr>\n",
       "      <th>13</th>\n",
       "      <td>11942</td>\n",
       "    </tr>\n",
       "    <tr>\n",
       "      <th>14</th>\n",
       "      <td>22667</td>\n",
       "    </tr>\n",
       "    <tr>\n",
       "      <th>15</th>\n",
       "      <td>666</td>\n",
       "    </tr>\n",
       "    <tr>\n",
       "      <th>16</th>\n",
       "      <td>755</td>\n",
       "    </tr>\n",
       "    <tr>\n",
       "      <th>17</th>\n",
       "      <td>3994</td>\n",
       "    </tr>\n",
       "    <tr>\n",
       "      <th>18</th>\n",
       "      <td>1266</td>\n",
       "    </tr>\n",
       "    <tr>\n",
       "      <th>19</th>\n",
       "      <td>4295</td>\n",
       "    </tr>\n",
       "    <tr>\n",
       "      <th>20</th>\n",
       "      <td>7882</td>\n",
       "    </tr>\n",
       "    <tr>\n",
       "      <th>21</th>\n",
       "      <td>580</td>\n",
       "    </tr>\n",
       "    <tr>\n",
       "      <th>22</th>\n",
       "      <td>14831</td>\n",
       "    </tr>\n",
       "    <tr>\n",
       "      <th>23</th>\n",
       "      <td>6545</td>\n",
       "    </tr>\n",
       "    <tr>\n",
       "      <th>24</th>\n",
       "      <td>673</td>\n",
       "    </tr>\n",
       "    <tr>\n",
       "      <th>25</th>\n",
       "      <td>25057</td>\n",
       "    </tr>\n",
       "    <tr>\n",
       "      <th>26</th>\n",
       "      <td>646</td>\n",
       "    </tr>\n",
       "    <tr>\n",
       "      <th>27</th>\n",
       "      <td>1741</td>\n",
       "    </tr>\n",
       "    <tr>\n",
       "      <th>28</th>\n",
       "      <td>20474</td>\n",
       "    </tr>\n",
       "    <tr>\n",
       "      <th rowspan=\"29\" valign=\"top\">1</th>\n",
       "      <th>0</th>\n",
       "      <td>2935</td>\n",
       "    </tr>\n",
       "    <tr>\n",
       "      <th>1</th>\n",
       "      <td>930</td>\n",
       "    </tr>\n",
       "    <tr>\n",
       "      <th>2</th>\n",
       "      <td>2583</td>\n",
       "    </tr>\n",
       "    <tr>\n",
       "      <th>3</th>\n",
       "      <td>61</td>\n",
       "    </tr>\n",
       "    <tr>\n",
       "      <th>4</th>\n",
       "      <td>511</td>\n",
       "    </tr>\n",
       "    <tr>\n",
       "      <th>5</th>\n",
       "      <td>574</td>\n",
       "    </tr>\n",
       "    <tr>\n",
       "      <th>6</th>\n",
       "      <td>1343</td>\n",
       "    </tr>\n",
       "    <tr>\n",
       "      <th>7</th>\n",
       "      <td>980</td>\n",
       "    </tr>\n",
       "    <tr>\n",
       "      <th>8</th>\n",
       "      <td>111</td>\n",
       "    </tr>\n",
       "    <tr>\n",
       "      <th>9</th>\n",
       "      <td>283</td>\n",
       "    </tr>\n",
       "    <tr>\n",
       "      <th>10</th>\n",
       "      <td>1195</td>\n",
       "    </tr>\n",
       "    <tr>\n",
       "      <th>11</th>\n",
       "      <td>1189</td>\n",
       "    </tr>\n",
       "    <tr>\n",
       "      <th>12</th>\n",
       "      <td>970</td>\n",
       "    </tr>\n",
       "    <tr>\n",
       "      <th>13</th>\n",
       "      <td>2180</td>\n",
       "    </tr>\n",
       "    <tr>\n",
       "      <th>14</th>\n",
       "      <td>2895</td>\n",
       "    </tr>\n",
       "    <tr>\n",
       "      <th>15</th>\n",
       "      <td>183</td>\n",
       "    </tr>\n",
       "    <tr>\n",
       "      <th>16</th>\n",
       "      <td>94</td>\n",
       "    </tr>\n",
       "    <tr>\n",
       "      <th>17</th>\n",
       "      <td>664</td>\n",
       "    </tr>\n",
       "    <tr>\n",
       "      <th>18</th>\n",
       "      <td>167</td>\n",
       "    </tr>\n",
       "    <tr>\n",
       "      <th>19</th>\n",
       "      <td>425</td>\n",
       "    </tr>\n",
       "    <tr>\n",
       "      <th>20</th>\n",
       "      <td>1292</td>\n",
       "    </tr>\n",
       "    <tr>\n",
       "      <th>21</th>\n",
       "      <td>28</td>\n",
       "    </tr>\n",
       "    <tr>\n",
       "      <th>22</th>\n",
       "      <td>1706</td>\n",
       "    </tr>\n",
       "    <tr>\n",
       "      <th>23</th>\n",
       "      <td>979</td>\n",
       "    </tr>\n",
       "    <tr>\n",
       "      <th>24</th>\n",
       "      <td>136</td>\n",
       "    </tr>\n",
       "    <tr>\n",
       "      <th>25</th>\n",
       "      <td>3343</td>\n",
       "    </tr>\n",
       "    <tr>\n",
       "      <th>26</th>\n",
       "      <td>97</td>\n",
       "    </tr>\n",
       "    <tr>\n",
       "      <th>27</th>\n",
       "      <td>133</td>\n",
       "    </tr>\n",
       "    <tr>\n",
       "      <th>28</th>\n",
       "      <td>3009</td>\n",
       "    </tr>\n",
       "  </tbody>\n",
       "</table>\n",
       "</div>"
      ],
      "text/plain": [
       "                     0\n",
       "Risk_Flag STATE       \n",
       "0         0      22362\n",
       "          1       6132\n",
       "          2      17197\n",
       "          3        595\n",
       "          4       3323\n",
       "          5       4916\n",
       "          6      10065\n",
       "          7       6910\n",
       "          8        722\n",
       "          9       1497\n",
       "          10      7770\n",
       "          11     10666\n",
       "          12      4835\n",
       "          13     11942\n",
       "          14     22667\n",
       "          15       666\n",
       "          16       755\n",
       "          17      3994\n",
       "          18      1266\n",
       "          19      4295\n",
       "          20      7882\n",
       "          21       580\n",
       "          22     14831\n",
       "          23      6545\n",
       "          24       673\n",
       "          25     25057\n",
       "          26       646\n",
       "          27      1741\n",
       "          28     20474\n",
       "1         0       2935\n",
       "          1        930\n",
       "          2       2583\n",
       "          3         61\n",
       "          4        511\n",
       "          5        574\n",
       "          6       1343\n",
       "          7        980\n",
       "          8        111\n",
       "          9        283\n",
       "          10      1195\n",
       "          11      1189\n",
       "          12       970\n",
       "          13      2180\n",
       "          14      2895\n",
       "          15       183\n",
       "          16        94\n",
       "          17       664\n",
       "          18       167\n",
       "          19       425\n",
       "          20      1292\n",
       "          21        28\n",
       "          22      1706\n",
       "          23       979\n",
       "          24       136\n",
       "          25      3343\n",
       "          26        97\n",
       "          27       133\n",
       "          28      3009"
      ]
     },
     "execution_count": 23,
     "metadata": {},
     "output_type": "execute_result"
    }
   ],
   "source": [
    "#calculating state wise Risk flag count \n",
    "state_risk = df.groupby(['Risk_Flag', 'STATE']).size()\n",
    "pd.DataFrame(state_risk)"
   ]
  },
  {
   "cell_type": "code",
   "execution_count": 24,
   "id": "69ffd5e8",
   "metadata": {},
   "outputs": [
    {
     "data": {
      "text/plain": [
       "STATE\n",
       "0     25297\n",
       "1      7062\n",
       "2     19780\n",
       "3       656\n",
       "4      3834\n",
       "5      5490\n",
       "6     11408\n",
       "7      7890\n",
       "8       833\n",
       "9      1780\n",
       "10     8965\n",
       "11    11855\n",
       "12     5805\n",
       "13    14122\n",
       "14    25562\n",
       "15      849\n",
       "16      849\n",
       "17     4658\n",
       "18     1433\n",
       "19     4720\n",
       "20     9174\n",
       "21      608\n",
       "22    16537\n",
       "23     7524\n",
       "24      809\n",
       "25    28400\n",
       "26      743\n",
       "27     1874\n",
       "28    23483\n",
       "dtype: int64"
      ]
     },
     "execution_count": 24,
     "metadata": {},
     "output_type": "execute_result"
    }
   ],
   "source": [
    "#finding the volume of customers state wise\n",
    "state = df.groupby(['STATE']).size()\n",
    "state"
   ]
  },
  {
   "cell_type": "code",
   "execution_count": 25,
   "id": "d7cd6aab",
   "metadata": {},
   "outputs": [
    {
     "data": {
      "text/html": [
       "<div>\n",
       "<style scoped>\n",
       "    .dataframe tbody tr th:only-of-type {\n",
       "        vertical-align: middle;\n",
       "    }\n",
       "\n",
       "    .dataframe tbody tr th {\n",
       "        vertical-align: top;\n",
       "    }\n",
       "\n",
       "    .dataframe thead th {\n",
       "        text-align: right;\n",
       "    }\n",
       "</style>\n",
       "<table border=\"1\" class=\"dataframe\">\n",
       "  <thead>\n",
       "    <tr style=\"text-align: right;\">\n",
       "      <th></th>\n",
       "      <th></th>\n",
       "      <th>0</th>\n",
       "    </tr>\n",
       "    <tr>\n",
       "      <th>Risk_Flag</th>\n",
       "      <th>STATE</th>\n",
       "      <th></th>\n",
       "    </tr>\n",
       "  </thead>\n",
       "  <tbody>\n",
       "    <tr>\n",
       "      <th rowspan=\"29\" valign=\"top\">0</th>\n",
       "      <th>0</th>\n",
       "      <td>88.397834</td>\n",
       "    </tr>\n",
       "    <tr>\n",
       "      <th>1</th>\n",
       "      <td>86.830926</td>\n",
       "    </tr>\n",
       "    <tr>\n",
       "      <th>2</th>\n",
       "      <td>86.941355</td>\n",
       "    </tr>\n",
       "    <tr>\n",
       "      <th>3</th>\n",
       "      <td>90.701220</td>\n",
       "    </tr>\n",
       "    <tr>\n",
       "      <th>4</th>\n",
       "      <td>86.671883</td>\n",
       "    </tr>\n",
       "    <tr>\n",
       "      <th>5</th>\n",
       "      <td>89.544627</td>\n",
       "    </tr>\n",
       "    <tr>\n",
       "      <th>6</th>\n",
       "      <td>88.227560</td>\n",
       "    </tr>\n",
       "    <tr>\n",
       "      <th>7</th>\n",
       "      <td>87.579214</td>\n",
       "    </tr>\n",
       "    <tr>\n",
       "      <th>8</th>\n",
       "      <td>86.674670</td>\n",
       "    </tr>\n",
       "    <tr>\n",
       "      <th>9</th>\n",
       "      <td>84.101124</td>\n",
       "    </tr>\n",
       "    <tr>\n",
       "      <th>10</th>\n",
       "      <td>86.670385</td>\n",
       "    </tr>\n",
       "    <tr>\n",
       "      <th>11</th>\n",
       "      <td>89.970477</td>\n",
       "    </tr>\n",
       "    <tr>\n",
       "      <th>12</th>\n",
       "      <td>83.290267</td>\n",
       "    </tr>\n",
       "    <tr>\n",
       "      <th>13</th>\n",
       "      <td>84.563093</td>\n",
       "    </tr>\n",
       "    <tr>\n",
       "      <th>14</th>\n",
       "      <td>88.674595</td>\n",
       "    </tr>\n",
       "    <tr>\n",
       "      <th>15</th>\n",
       "      <td>78.445230</td>\n",
       "    </tr>\n",
       "    <tr>\n",
       "      <th>16</th>\n",
       "      <td>88.928151</td>\n",
       "    </tr>\n",
       "    <tr>\n",
       "      <th>17</th>\n",
       "      <td>85.744955</td>\n",
       "    </tr>\n",
       "    <tr>\n",
       "      <th>18</th>\n",
       "      <td>88.346127</td>\n",
       "    </tr>\n",
       "    <tr>\n",
       "      <th>19</th>\n",
       "      <td>90.995763</td>\n",
       "    </tr>\n",
       "    <tr>\n",
       "      <th>20</th>\n",
       "      <td>85.916721</td>\n",
       "    </tr>\n",
       "    <tr>\n",
       "      <th>21</th>\n",
       "      <td>95.394737</td>\n",
       "    </tr>\n",
       "    <tr>\n",
       "      <th>22</th>\n",
       "      <td>89.683739</td>\n",
       "    </tr>\n",
       "    <tr>\n",
       "      <th>23</th>\n",
       "      <td>86.988304</td>\n",
       "    </tr>\n",
       "    <tr>\n",
       "      <th>24</th>\n",
       "      <td>83.189122</td>\n",
       "    </tr>\n",
       "    <tr>\n",
       "      <th>25</th>\n",
       "      <td>88.228873</td>\n",
       "    </tr>\n",
       "    <tr>\n",
       "      <th>26</th>\n",
       "      <td>86.944818</td>\n",
       "    </tr>\n",
       "    <tr>\n",
       "      <th>27</th>\n",
       "      <td>92.902882</td>\n",
       "    </tr>\n",
       "    <tr>\n",
       "      <th>28</th>\n",
       "      <td>87.186475</td>\n",
       "    </tr>\n",
       "    <tr>\n",
       "      <th rowspan=\"29\" valign=\"top\">1</th>\n",
       "      <th>0</th>\n",
       "      <td>11.602166</td>\n",
       "    </tr>\n",
       "    <tr>\n",
       "      <th>1</th>\n",
       "      <td>13.169074</td>\n",
       "    </tr>\n",
       "    <tr>\n",
       "      <th>2</th>\n",
       "      <td>13.058645</td>\n",
       "    </tr>\n",
       "    <tr>\n",
       "      <th>3</th>\n",
       "      <td>9.298780</td>\n",
       "    </tr>\n",
       "    <tr>\n",
       "      <th>4</th>\n",
       "      <td>13.328117</td>\n",
       "    </tr>\n",
       "    <tr>\n",
       "      <th>5</th>\n",
       "      <td>10.455373</td>\n",
       "    </tr>\n",
       "    <tr>\n",
       "      <th>6</th>\n",
       "      <td>11.772440</td>\n",
       "    </tr>\n",
       "    <tr>\n",
       "      <th>7</th>\n",
       "      <td>12.420786</td>\n",
       "    </tr>\n",
       "    <tr>\n",
       "      <th>8</th>\n",
       "      <td>13.325330</td>\n",
       "    </tr>\n",
       "    <tr>\n",
       "      <th>9</th>\n",
       "      <td>15.898876</td>\n",
       "    </tr>\n",
       "    <tr>\n",
       "      <th>10</th>\n",
       "      <td>13.329615</td>\n",
       "    </tr>\n",
       "    <tr>\n",
       "      <th>11</th>\n",
       "      <td>10.029523</td>\n",
       "    </tr>\n",
       "    <tr>\n",
       "      <th>12</th>\n",
       "      <td>16.709733</td>\n",
       "    </tr>\n",
       "    <tr>\n",
       "      <th>13</th>\n",
       "      <td>15.436907</td>\n",
       "    </tr>\n",
       "    <tr>\n",
       "      <th>14</th>\n",
       "      <td>11.325405</td>\n",
       "    </tr>\n",
       "    <tr>\n",
       "      <th>15</th>\n",
       "      <td>21.554770</td>\n",
       "    </tr>\n",
       "    <tr>\n",
       "      <th>16</th>\n",
       "      <td>11.071849</td>\n",
       "    </tr>\n",
       "    <tr>\n",
       "      <th>17</th>\n",
       "      <td>14.255045</td>\n",
       "    </tr>\n",
       "    <tr>\n",
       "      <th>18</th>\n",
       "      <td>11.653873</td>\n",
       "    </tr>\n",
       "    <tr>\n",
       "      <th>19</th>\n",
       "      <td>9.004237</td>\n",
       "    </tr>\n",
       "    <tr>\n",
       "      <th>20</th>\n",
       "      <td>14.083279</td>\n",
       "    </tr>\n",
       "    <tr>\n",
       "      <th>21</th>\n",
       "      <td>4.605263</td>\n",
       "    </tr>\n",
       "    <tr>\n",
       "      <th>22</th>\n",
       "      <td>10.316261</td>\n",
       "    </tr>\n",
       "    <tr>\n",
       "      <th>23</th>\n",
       "      <td>13.011696</td>\n",
       "    </tr>\n",
       "    <tr>\n",
       "      <th>24</th>\n",
       "      <td>16.810878</td>\n",
       "    </tr>\n",
       "    <tr>\n",
       "      <th>25</th>\n",
       "      <td>11.771127</td>\n",
       "    </tr>\n",
       "    <tr>\n",
       "      <th>26</th>\n",
       "      <td>13.055182</td>\n",
       "    </tr>\n",
       "    <tr>\n",
       "      <th>27</th>\n",
       "      <td>7.097118</td>\n",
       "    </tr>\n",
       "    <tr>\n",
       "      <th>28</th>\n",
       "      <td>12.813525</td>\n",
       "    </tr>\n",
       "  </tbody>\n",
       "</table>\n",
       "</div>"
      ],
      "text/plain": [
       "                         0\n",
       "Risk_Flag STATE           \n",
       "0         0      88.397834\n",
       "          1      86.830926\n",
       "          2      86.941355\n",
       "          3      90.701220\n",
       "          4      86.671883\n",
       "          5      89.544627\n",
       "          6      88.227560\n",
       "          7      87.579214\n",
       "          8      86.674670\n",
       "          9      84.101124\n",
       "          10     86.670385\n",
       "          11     89.970477\n",
       "          12     83.290267\n",
       "          13     84.563093\n",
       "          14     88.674595\n",
       "          15     78.445230\n",
       "          16     88.928151\n",
       "          17     85.744955\n",
       "          18     88.346127\n",
       "          19     90.995763\n",
       "          20     85.916721\n",
       "          21     95.394737\n",
       "          22     89.683739\n",
       "          23     86.988304\n",
       "          24     83.189122\n",
       "          25     88.228873\n",
       "          26     86.944818\n",
       "          27     92.902882\n",
       "          28     87.186475\n",
       "1         0      11.602166\n",
       "          1      13.169074\n",
       "          2      13.058645\n",
       "          3       9.298780\n",
       "          4      13.328117\n",
       "          5      10.455373\n",
       "          6      11.772440\n",
       "          7      12.420786\n",
       "          8      13.325330\n",
       "          9      15.898876\n",
       "          10     13.329615\n",
       "          11     10.029523\n",
       "          12     16.709733\n",
       "          13     15.436907\n",
       "          14     11.325405\n",
       "          15     21.554770\n",
       "          16     11.071849\n",
       "          17     14.255045\n",
       "          18     11.653873\n",
       "          19      9.004237\n",
       "          20     14.083279\n",
       "          21      4.605263\n",
       "          22     10.316261\n",
       "          23     13.011696\n",
       "          24     16.810878\n",
       "          25     11.771127\n",
       "          26     13.055182\n",
       "          27      7.097118\n",
       "          28     12.813525"
      ]
     },
     "execution_count": 25,
     "metadata": {},
     "output_type": "execute_result"
    }
   ],
   "source": [
    "state_risk_prop = state_risk.div(state, level='STATE') * 100\n",
    "state_risk_prop = pd.DataFrame(state_risk_prop)\n",
    "state_risk_prop"
   ]
  },
  {
   "cell_type": "code",
   "execution_count": 26,
   "id": "6663028a",
   "metadata": {},
   "outputs": [
    {
     "data": {
      "text/html": [
       "<div>\n",
       "<style scoped>\n",
       "    .dataframe tbody tr th:only-of-type {\n",
       "        vertical-align: middle;\n",
       "    }\n",
       "\n",
       "    .dataframe tbody tr th {\n",
       "        vertical-align: top;\n",
       "    }\n",
       "\n",
       "    .dataframe thead th {\n",
       "        text-align: right;\n",
       "    }\n",
       "</style>\n",
       "<table border=\"1\" class=\"dataframe\">\n",
       "  <thead>\n",
       "    <tr style=\"text-align: right;\">\n",
       "      <th></th>\n",
       "      <th>STATE</th>\n",
       "      <th>Risk_Flag</th>\n",
       "    </tr>\n",
       "  </thead>\n",
       "  <tbody>\n",
       "    <tr>\n",
       "      <th>0</th>\n",
       "      <td>0</td>\n",
       "      <td>0</td>\n",
       "    </tr>\n",
       "    <tr>\n",
       "      <th>1</th>\n",
       "      <td>0</td>\n",
       "      <td>1</td>\n",
       "    </tr>\n",
       "    <tr>\n",
       "      <th>2</th>\n",
       "      <td>1</td>\n",
       "      <td>0</td>\n",
       "    </tr>\n",
       "    <tr>\n",
       "      <th>3</th>\n",
       "      <td>1</td>\n",
       "      <td>1</td>\n",
       "    </tr>\n",
       "    <tr>\n",
       "      <th>4</th>\n",
       "      <td>2</td>\n",
       "      <td>0</td>\n",
       "    </tr>\n",
       "    <tr>\n",
       "      <th>5</th>\n",
       "      <td>2</td>\n",
       "      <td>1</td>\n",
       "    </tr>\n",
       "    <tr>\n",
       "      <th>6</th>\n",
       "      <td>3</td>\n",
       "      <td>0</td>\n",
       "    </tr>\n",
       "    <tr>\n",
       "      <th>7</th>\n",
       "      <td>3</td>\n",
       "      <td>1</td>\n",
       "    </tr>\n",
       "    <tr>\n",
       "      <th>8</th>\n",
       "      <td>4</td>\n",
       "      <td>0</td>\n",
       "    </tr>\n",
       "    <tr>\n",
       "      <th>9</th>\n",
       "      <td>4</td>\n",
       "      <td>1</td>\n",
       "    </tr>\n",
       "    <tr>\n",
       "      <th>10</th>\n",
       "      <td>5</td>\n",
       "      <td>0</td>\n",
       "    </tr>\n",
       "    <tr>\n",
       "      <th>11</th>\n",
       "      <td>5</td>\n",
       "      <td>1</td>\n",
       "    </tr>\n",
       "    <tr>\n",
       "      <th>12</th>\n",
       "      <td>6</td>\n",
       "      <td>0</td>\n",
       "    </tr>\n",
       "    <tr>\n",
       "      <th>13</th>\n",
       "      <td>6</td>\n",
       "      <td>1</td>\n",
       "    </tr>\n",
       "    <tr>\n",
       "      <th>14</th>\n",
       "      <td>7</td>\n",
       "      <td>0</td>\n",
       "    </tr>\n",
       "    <tr>\n",
       "      <th>15</th>\n",
       "      <td>7</td>\n",
       "      <td>1</td>\n",
       "    </tr>\n",
       "    <tr>\n",
       "      <th>16</th>\n",
       "      <td>8</td>\n",
       "      <td>0</td>\n",
       "    </tr>\n",
       "    <tr>\n",
       "      <th>17</th>\n",
       "      <td>8</td>\n",
       "      <td>1</td>\n",
       "    </tr>\n",
       "    <tr>\n",
       "      <th>18</th>\n",
       "      <td>9</td>\n",
       "      <td>0</td>\n",
       "    </tr>\n",
       "    <tr>\n",
       "      <th>19</th>\n",
       "      <td>9</td>\n",
       "      <td>1</td>\n",
       "    </tr>\n",
       "    <tr>\n",
       "      <th>20</th>\n",
       "      <td>10</td>\n",
       "      <td>0</td>\n",
       "    </tr>\n",
       "    <tr>\n",
       "      <th>21</th>\n",
       "      <td>10</td>\n",
       "      <td>1</td>\n",
       "    </tr>\n",
       "    <tr>\n",
       "      <th>22</th>\n",
       "      <td>11</td>\n",
       "      <td>0</td>\n",
       "    </tr>\n",
       "    <tr>\n",
       "      <th>23</th>\n",
       "      <td>11</td>\n",
       "      <td>1</td>\n",
       "    </tr>\n",
       "    <tr>\n",
       "      <th>24</th>\n",
       "      <td>12</td>\n",
       "      <td>0</td>\n",
       "    </tr>\n",
       "    <tr>\n",
       "      <th>25</th>\n",
       "      <td>12</td>\n",
       "      <td>1</td>\n",
       "    </tr>\n",
       "    <tr>\n",
       "      <th>26</th>\n",
       "      <td>13</td>\n",
       "      <td>0</td>\n",
       "    </tr>\n",
       "    <tr>\n",
       "      <th>27</th>\n",
       "      <td>13</td>\n",
       "      <td>1</td>\n",
       "    </tr>\n",
       "    <tr>\n",
       "      <th>28</th>\n",
       "      <td>14</td>\n",
       "      <td>0</td>\n",
       "    </tr>\n",
       "    <tr>\n",
       "      <th>29</th>\n",
       "      <td>14</td>\n",
       "      <td>1</td>\n",
       "    </tr>\n",
       "    <tr>\n",
       "      <th>30</th>\n",
       "      <td>15</td>\n",
       "      <td>0</td>\n",
       "    </tr>\n",
       "    <tr>\n",
       "      <th>31</th>\n",
       "      <td>15</td>\n",
       "      <td>1</td>\n",
       "    </tr>\n",
       "    <tr>\n",
       "      <th>32</th>\n",
       "      <td>16</td>\n",
       "      <td>0</td>\n",
       "    </tr>\n",
       "    <tr>\n",
       "      <th>33</th>\n",
       "      <td>16</td>\n",
       "      <td>1</td>\n",
       "    </tr>\n",
       "    <tr>\n",
       "      <th>34</th>\n",
       "      <td>17</td>\n",
       "      <td>0</td>\n",
       "    </tr>\n",
       "    <tr>\n",
       "      <th>35</th>\n",
       "      <td>17</td>\n",
       "      <td>1</td>\n",
       "    </tr>\n",
       "    <tr>\n",
       "      <th>36</th>\n",
       "      <td>18</td>\n",
       "      <td>0</td>\n",
       "    </tr>\n",
       "    <tr>\n",
       "      <th>37</th>\n",
       "      <td>18</td>\n",
       "      <td>1</td>\n",
       "    </tr>\n",
       "    <tr>\n",
       "      <th>38</th>\n",
       "      <td>19</td>\n",
       "      <td>0</td>\n",
       "    </tr>\n",
       "    <tr>\n",
       "      <th>39</th>\n",
       "      <td>19</td>\n",
       "      <td>1</td>\n",
       "    </tr>\n",
       "    <tr>\n",
       "      <th>40</th>\n",
       "      <td>20</td>\n",
       "      <td>0</td>\n",
       "    </tr>\n",
       "    <tr>\n",
       "      <th>41</th>\n",
       "      <td>20</td>\n",
       "      <td>1</td>\n",
       "    </tr>\n",
       "    <tr>\n",
       "      <th>42</th>\n",
       "      <td>21</td>\n",
       "      <td>0</td>\n",
       "    </tr>\n",
       "    <tr>\n",
       "      <th>43</th>\n",
       "      <td>21</td>\n",
       "      <td>1</td>\n",
       "    </tr>\n",
       "    <tr>\n",
       "      <th>44</th>\n",
       "      <td>22</td>\n",
       "      <td>0</td>\n",
       "    </tr>\n",
       "    <tr>\n",
       "      <th>45</th>\n",
       "      <td>22</td>\n",
       "      <td>1</td>\n",
       "    </tr>\n",
       "    <tr>\n",
       "      <th>46</th>\n",
       "      <td>23</td>\n",
       "      <td>0</td>\n",
       "    </tr>\n",
       "    <tr>\n",
       "      <th>47</th>\n",
       "      <td>23</td>\n",
       "      <td>1</td>\n",
       "    </tr>\n",
       "    <tr>\n",
       "      <th>48</th>\n",
       "      <td>24</td>\n",
       "      <td>0</td>\n",
       "    </tr>\n",
       "    <tr>\n",
       "      <th>49</th>\n",
       "      <td>24</td>\n",
       "      <td>1</td>\n",
       "    </tr>\n",
       "    <tr>\n",
       "      <th>50</th>\n",
       "      <td>25</td>\n",
       "      <td>0</td>\n",
       "    </tr>\n",
       "    <tr>\n",
       "      <th>51</th>\n",
       "      <td>25</td>\n",
       "      <td>1</td>\n",
       "    </tr>\n",
       "    <tr>\n",
       "      <th>52</th>\n",
       "      <td>26</td>\n",
       "      <td>0</td>\n",
       "    </tr>\n",
       "    <tr>\n",
       "      <th>53</th>\n",
       "      <td>26</td>\n",
       "      <td>1</td>\n",
       "    </tr>\n",
       "    <tr>\n",
       "      <th>54</th>\n",
       "      <td>27</td>\n",
       "      <td>0</td>\n",
       "    </tr>\n",
       "    <tr>\n",
       "      <th>55</th>\n",
       "      <td>27</td>\n",
       "      <td>1</td>\n",
       "    </tr>\n",
       "    <tr>\n",
       "      <th>56</th>\n",
       "      <td>28</td>\n",
       "      <td>0</td>\n",
       "    </tr>\n",
       "    <tr>\n",
       "      <th>57</th>\n",
       "      <td>28</td>\n",
       "      <td>1</td>\n",
       "    </tr>\n",
       "  </tbody>\n",
       "</table>\n",
       "</div>"
      ],
      "text/plain": [
       "    STATE  Risk_Flag\n",
       "0       0          0\n",
       "1       0          1\n",
       "2       1          0\n",
       "3       1          1\n",
       "4       2          0\n",
       "5       2          1\n",
       "6       3          0\n",
       "7       3          1\n",
       "8       4          0\n",
       "9       4          1\n",
       "10      5          0\n",
       "11      5          1\n",
       "12      6          0\n",
       "13      6          1\n",
       "14      7          0\n",
       "15      7          1\n",
       "16      8          0\n",
       "17      8          1\n",
       "18      9          0\n",
       "19      9          1\n",
       "20     10          0\n",
       "21     10          1\n",
       "22     11          0\n",
       "23     11          1\n",
       "24     12          0\n",
       "25     12          1\n",
       "26     13          0\n",
       "27     13          1\n",
       "28     14          0\n",
       "29     14          1\n",
       "30     15          0\n",
       "31     15          1\n",
       "32     16          0\n",
       "33     16          1\n",
       "34     17          0\n",
       "35     17          1\n",
       "36     18          0\n",
       "37     18          1\n",
       "38     19          0\n",
       "39     19          1\n",
       "40     20          0\n",
       "41     20          1\n",
       "42     21          0\n",
       "43     21          1\n",
       "44     22          0\n",
       "45     22          1\n",
       "46     23          0\n",
       "47     23          1\n",
       "48     24          0\n",
       "49     24          1\n",
       "50     25          0\n",
       "51     25          1\n",
       "52     26          0\n",
       "53     26          1\n",
       "54     27          0\n",
       "55     27          1\n",
       "56     28          0\n",
       "57     28          1"
      ]
     },
     "execution_count": 26,
     "metadata": {},
     "output_type": "execute_result"
    }
   ],
   "source": [
    "agg_by_state_income = df[['STATE', 'Risk_Flag']].groupby(['STATE', 'Risk_Flag']).count().reset_index()\n",
    "agg_by_state_income"
   ]
  },
  {
   "cell_type": "code",
   "execution_count": 27,
   "id": "cb334633",
   "metadata": {},
   "outputs": [
    {
     "data": {
      "text/plain": [
       "Profession\n",
       "0     5281\n",
       "1     4668\n",
       "2     4657\n",
       "3     4661\n",
       "4     4861\n",
       "5     4758\n",
       "6     5127\n",
       "7     4493\n",
       "8     4635\n",
       "9     5205\n",
       "10    4616\n",
       "11    4413\n",
       "12    5259\n",
       "13    5372\n",
       "14    4990\n",
       "15    4808\n",
       "16    4782\n",
       "17    4729\n",
       "18    4598\n",
       "19    5359\n",
       "20    4573\n",
       "21    4048\n",
       "22    5304\n",
       "23    5167\n",
       "24    4507\n",
       "25    5128\n",
       "26    4672\n",
       "27    5166\n",
       "28    5178\n",
       "29    5250\n",
       "30    4818\n",
       "31    4628\n",
       "32    5357\n",
       "33    5217\n",
       "34    4881\n",
       "35    4087\n",
       "36    5041\n",
       "37    5957\n",
       "38    5035\n",
       "39    4944\n",
       "40    5390\n",
       "41    4781\n",
       "42    5061\n",
       "43    5053\n",
       "44    5806\n",
       "45    4772\n",
       "46    4714\n",
       "47    5195\n",
       "48    4864\n",
       "49    4737\n",
       "50    5397\n",
       "dtype: int64"
      ]
     },
     "execution_count": 27,
     "metadata": {},
     "output_type": "execute_result"
    }
   ],
   "source": [
    "prof_risk = df.groupby(['Risk_Flag', 'Profession']).size()\n",
    "prof = df.groupby(['Profession']).size()\n",
    "prof"
   ]
  },
  {
   "cell_type": "markdown",
   "id": "dab927f9",
   "metadata": {},
   "source": [
    "# Evalution of models"
   ]
  },
  {
   "cell_type": "code",
   "execution_count": 29,
   "id": "29a2ae7b",
   "metadata": {
    "collapsed": true
   },
   "outputs": [
    {
     "name": "stdout",
     "output_type": "stream",
     "text": [
      "\n",
      "Logistic Regression\n",
      "Accuracy: 0.8761375661375661\n",
      "Precision: 0.0\n",
      "Recall: 0.0\n",
      "F1 score: 0.0\n",
      "AUC:0.5032746670036923\n"
     ]
    },
    {
     "name": "stderr",
     "output_type": "stream",
     "text": [
      "/Users/sanjaypenmetsa/opt/anaconda3/lib/python3.8/site-packages/sklearn/metrics/_classification.py:1308: UndefinedMetricWarning: Precision is ill-defined and being set to 0.0 due to no predicted samples. Use `zero_division` parameter to control this behavior.\n",
      "  _warn_prf(average, modifier, msg_start, len(result))\n"
     ]
    },
    {
     "data": {
      "image/png": "[encoded data removed]",
      "text/plain": [
       "<Figure size 432x288 with 1 Axes>"
      ]
     },
     "metadata": {
      "needs_background": "light"
     },
     "output_type": "display_data"
    },
    {
     "name": "stdout",
     "output_type": "stream",
     "text": [
      "[[66236     0]\n",
      " [ 9364     0]]\n",
      "\n",
      "Naïve Bayes\n",
      "Accuracy: 0.8761375661375661\n",
      "Precision: 0.0\n",
      "Recall: 0.0\n"
     ]
    },
    {
     "name": "stderr",
     "output_type": "stream",
     "text": [
      "/Users/sanjaypenmetsa/opt/anaconda3/lib/python3.8/site-packages/sklearn/metrics/_classification.py:1308: UndefinedMetricWarning: Precision is ill-defined and being set to 0.0 due to no predicted samples. Use `zero_division` parameter to control this behavior.\n",
      "  _warn_prf(average, modifier, msg_start, len(result))\n"
     ]
    },
    {
     "name": "stdout",
     "output_type": "stream",
     "text": [
      "F1 score: 0.0\n",
      "AUC:0.5163270153964367\n"
     ]
    },
    {
     "data": {
      "image/png": "[encoded data removed]",
      "text/plain": [
       "<Figure size 432x288 with 1 Axes>"
      ]
     },
     "metadata": {
      "needs_background": "light"
     },
     "output_type": "display_data"
    },
    {
     "name": "stdout",
     "output_type": "stream",
     "text": [
      "[[66236     0]\n",
      " [ 9364     0]]\n",
      "\n",
      "Decision Tree\n",
      "Accuracy: 0.8820370370370371\n",
      "Precision: 0.5219834384858044\n",
      "Recall: 0.5654634771465186\n",
      "F1 score: 0.5428542136559361\n",
      "AUC:0.8530195408343881\n"
     ]
    },
    {
     "data": {
      "image/png": "[encoded data removed]",
      "text/plain": [
       "<Figure size 432x288 with 1 Axes>"
      ]
     },
     "metadata": {
      "needs_background": "light"
     },
     "output_type": "display_data"
    },
    {
     "name": "stdout",
     "output_type": "stream",
     "text": [
      "[[61387  4849]\n",
      " [ 4069  5295]]\n",
      "\n",
      "Random Forest Classifier\n",
      "Accuracy: 0.8995899470899471\n",
      "Precision: 0.6074154852780806\n",
      "Recall: 0.5353481418197351\n",
      "F1 score: 0.5691093829823465\n",
      "AUC:0.9376802666692015\n"
     ]
    },
    {
     "data": {
      "image/png": "[encoded data removed]",
      "text/plain": [
       "<Figure size 432x288 with 1 Axes>"
      ]
     },
     "metadata": {
      "needs_background": "light"
     },
     "output_type": "display_data"
    },
    {
     "name": "stdout",
     "output_type": "stream",
     "text": [
      "[[62996  3240]\n",
      " [ 4351  5013]]\n",
      "\n",
      "AdaBoost Classifier\n",
      "Accuracy: 0.8761243386243386\n",
      "Precision: 0.4666666666666667\n",
      "Recall: 0.00074754378470739\n",
      "F1 score: 0.0014926964495148736\n",
      "AUC:0.5905373394421856\n"
     ]
    },
    {
     "data": {
      "image/png": "[encoded data removed]",
      "text/plain": [
       "<Figure size 432x288 with 1 Axes>"
      ]
     },
     "metadata": {
      "needs_background": "light"
     },
     "output_type": "display_data"
    },
    {
     "name": "stdout",
     "output_type": "stream",
     "text": [
      "[[66228     8]\n",
      " [ 9357     7]]\n",
      "\n",
      "XGBoost\n",
      "Accuracy: 0.8870634920634921\n",
      "Precision: 0.6371181938911022\n",
      "Recall: 0.20493378897906878\n",
      "F1 score: 0.3101163542340013\n",
      "AUC:0.8809332245081527\n"
     ]
    },
    {
     "data": {
      "image/png": "[encoded data removed]",
      "text/plain": [
       "<Figure size 432x288 with 1 Axes>"
      ]
     },
     "metadata": {
      "needs_background": "light"
     },
     "output_type": "display_data"
    },
    {
     "name": "stdout",
     "output_type": "stream",
     "text": [
      "[[65143  1093]\n",
      " [ 7445  1919]]\n"
     ]
    }
   ],
   "source": [
    "# model with label encoding data\n",
    "# spliting dependent variables and target variable \n",
    "X = df.iloc[:,:-1].values\n",
    "y = df.iloc[:,-1].values\n",
    "\n",
    "createModel(X,y)"
   ]
  },
  {
   "cell_type": "code",
   "execution_count": 30,
   "id": "01280a46",
   "metadata": {
    "scrolled": false
   },
   "outputs": [
    {
     "name": "stdout",
     "output_type": "stream",
     "text": [
      "\n",
      "Logistic Regression\n",
      "Accuracy: 0.906084656084656\n",
      "Precision: 0.0\n",
      "Recall: 0.0\n",
      "F1 score: 0.0\n",
      "AUC:0.486708240978719\n"
     ]
    },
    {
     "name": "stderr",
     "output_type": "stream",
     "text": [
      "/Users/sanjaypenmetsa/opt/anaconda3/lib/python3.8/site-packages/sklearn/metrics/_classification.py:1308: UndefinedMetricWarning: Precision is ill-defined and being set to 0.0 due to no predicted samples. Use `zero_division` parameter to control this behavior.\n",
      "  _warn_prf(average, modifier, msg_start, len(result))\n"
     ]
    },
    {
     "data": {
      "image/png": "[encoded data removed]",
      "text/plain": [
       "<Figure size 432x288 with 1 Axes>"
      ]
     },
     "metadata": {
      "needs_background": "light"
     },
     "output_type": "display_data"
    },
    {
     "name": "stdout",
     "output_type": "stream",
     "text": [
      "[[68500     0]\n",
      " [ 7100     0]]\n",
      "\n",
      "Naïve Bayes\n",
      "Accuracy: 0.906084656084656\n",
      "Precision: 0.0\n",
      "Recall: 0.0\n",
      "F1 score: 0.0\n"
     ]
    },
    {
     "name": "stderr",
     "output_type": "stream",
     "text": [
      "/Users/sanjaypenmetsa/opt/anaconda3/lib/python3.8/site-packages/sklearn/metrics/_classification.py:1308: UndefinedMetricWarning: Precision is ill-defined and being set to 0.0 due to no predicted samples. Use `zero_division` parameter to control this behavior.\n",
      "  _warn_prf(average, modifier, msg_start, len(result))\n"
     ]
    },
    {
     "name": "stdout",
     "output_type": "stream",
     "text": [
      "AUC:0.5134962804564613\n"
     ]
    },
    {
     "data": {
      "image/png": "[encoded data removed]",
      "text/plain": [
       "<Figure size 432x288 with 1 Axes>"
      ]
     },
     "metadata": {
      "needs_background": "light"
     },
     "output_type": "display_data"
    },
    {
     "name": "stdout",
     "output_type": "stream",
     "text": [
      "[[68500     0]\n",
      " [ 7100     0]]\n",
      "\n",
      "Decision Tree\n",
      "Accuracy: 1.0\n",
      "Precision: 1.0\n",
      "Recall: 1.0\n",
      "F1 score: 1.0\n",
      "AUC:1.0\n"
     ]
    },
    {
     "data": {
      "image/png": "[encoded data removed]",
      "text/plain": [
       "<Figure size 432x288 with 1 Axes>"
      ]
     },
     "metadata": {
      "needs_background": "light"
     },
     "output_type": "display_data"
    },
    {
     "name": "stdout",
     "output_type": "stream",
     "text": [
      "[[68500     0]\n",
      " [    0  7100]]\n",
      "\n",
      "Random Forest Classifier\n",
      "Accuracy: 1.0\n",
      "Precision: 1.0\n",
      "Recall: 1.0\n",
      "F1 score: 1.0\n",
      "AUC:1.0\n"
     ]
    },
    {
     "data": {
      "image/png": "[encoded data removed]",
      "text/plain": [
       "<Figure size 432x288 with 1 Axes>"
      ]
     },
     "metadata": {
      "needs_background": "light"
     },
     "output_type": "display_data"
    },
    {
     "name": "stdout",
     "output_type": "stream",
     "text": [
      "[[68500     0]\n",
      " [    0  7100]]\n",
      "\n",
      "AdaBoost Classifier\n",
      "Accuracy: 1.0\n",
      "Precision: 1.0\n",
      "Recall: 1.0\n",
      "F1 score: 1.0\n",
      "AUC:1.0\n"
     ]
    },
    {
     "data": {
      "image/png": "[encoded data removed]",
      "text/plain": [
       "<Figure size 432x288 with 1 Axes>"
      ]
     },
     "metadata": {
      "needs_background": "light"
     },
     "output_type": "display_data"
    },
    {
     "name": "stdout",
     "output_type": "stream",
     "text": [
      "[[68500     0]\n",
      " [    0  7100]]\n",
      "\n",
      "XGBoost\n",
      "Accuracy: 1.0\n",
      "Precision: 1.0\n",
      "Recall: 1.0\n",
      "F1 score: 1.0\n",
      "AUC:1.0\n"
     ]
    },
    {
     "data": {
      "image/png": "[encoded data removed]",
      "text/plain": [
       "<Figure size 432x288 with 1 Axes>"
      ]
     },
     "metadata": {
      "needs_background": "light"
     },
     "output_type": "display_data"
    },
    {
     "name": "stdout",
     "output_type": "stream",
     "text": [
      "[[68500     0]\n",
      " [    0  7100]]\n"
     ]
    }
   ],
   "source": [
    "#model with one-hot encoding data\n",
    "#spliting dependent variables and target variable \n",
    "X = df1.iloc[:,:-1].values\n",
    "y = df1.iloc[:,-1].values\n",
    "\n",
    "createModel(X,y)"
   ]
  },
  {
   "cell_type": "markdown",
   "id": "c3eb55c8",
   "metadata": {},
   "source": [
    "# Feature selection"
   ]
  },
  {
   "cell_type": "code",
   "execution_count": 31,
   "id": "b6ae7255",
   "metadata": {},
   "outputs": [],
   "source": [
    "# spliting dependent variables and target variable \n",
    "X = df.iloc[:,:-1].values\n",
    "y = df.iloc[:,-1].values"
   ]
  },
  {
   "cell_type": "code",
   "execution_count": 32,
   "id": "2fd05975",
   "metadata": {},
   "outputs": [],
   "source": [
    "from sklearn.feature_selection import VarianceThreshold\n",
    "sel = VarianceThreshold(threshold=(.8 * (1 - .8)))\n",
    "fe=sel.fit_transform(X)"
   ]
  },
  {
   "cell_type": "code",
   "execution_count": 33,
   "id": "eb276eba",
   "metadata": {
    "scrolled": false
   },
   "outputs": [
    {
     "name": "stdout",
     "output_type": "stream",
     "text": [
      "\n",
      "Logistic Regression\n",
      "Accuracy: 0.8761375661375661\n",
      "Precision: 0.0\n",
      "Recall: 0.0\n",
      "F1 score: 0.0\n",
      "AUC:0.5032746670036923\n"
     ]
    },
    {
     "name": "stderr",
     "output_type": "stream",
     "text": [
      "/Users/sanjaypenmetsa/opt/anaconda3/lib/python3.8/site-packages/sklearn/metrics/_classification.py:1308: UndefinedMetricWarning: Precision is ill-defined and being set to 0.0 due to no predicted samples. Use `zero_division` parameter to control this behavior.\n",
      "  _warn_prf(average, modifier, msg_start, len(result))\n"
     ]
    },
    {
     "data": {
      "image/png": "[encoded data removed]",
      "text/plain": [
       "<Figure size 432x288 with 1 Axes>"
      ]
     },
     "metadata": {
      "needs_background": "light"
     },
     "output_type": "display_data"
    },
    {
     "name": "stdout",
     "output_type": "stream",
     "text": [
      "[[66236     0]\n",
      " [ 9364     0]]\n",
      "\n",
      "Naïve Bayes\n",
      "Accuracy: 0.8761375661375661\n",
      "Precision: 0.0\n",
      "Recall: 0.0\n",
      "F1 score: 0.0\n"
     ]
    },
    {
     "name": "stderr",
     "output_type": "stream",
     "text": [
      "/Users/sanjaypenmetsa/opt/anaconda3/lib/python3.8/site-packages/sklearn/metrics/_classification.py:1308: UndefinedMetricWarning: Precision is ill-defined and being set to 0.0 due to no predicted samples. Use `zero_division` parameter to control this behavior.\n",
      "  _warn_prf(average, modifier, msg_start, len(result))\n"
     ]
    },
    {
     "name": "stdout",
     "output_type": "stream",
     "text": [
      "AUC:0.5163249726187171\n"
     ]
    },
    {
     "data": {
      "image/png": "[encoded data removed]",
      "text/plain": [
       "<Figure size 432x288 with 1 Axes>"
      ]
     },
     "metadata": {
      "needs_background": "light"
     },
     "output_type": "display_data"
    },
    {
     "name": "stdout",
     "output_type": "stream",
     "text": [
      "[[66236     0]\n",
      " [ 9364     0]]\n",
      "\n",
      "Decision Tree\n",
      "Accuracy: 0.8807671957671958\n",
      "Precision: 0.5171635935661043\n",
      "Recall: 0.5631140538231525\n",
      "F1 score: 0.539161554192229\n",
      "AUC:0.8507096050331361\n"
     ]
    },
    {
     "data": {
      "image/png": "[encoded data removed]",
      "text/plain": [
       "<Figure size 432x288 with 1 Axes>"
      ]
     },
     "metadata": {
      "needs_background": "light"
     },
     "output_type": "display_data"
    },
    {
     "name": "stdout",
     "output_type": "stream",
     "text": [
      "[[61313  4923]\n",
      " [ 4091  5273]]\n",
      "\n",
      "Random Forest Classifier\n",
      "Accuracy: 0.8994841269841269\n",
      "Precision: 0.6072426783327257\n",
      "Recall: 0.5336394703118326\n",
      "F1 score: 0.5680668447678053\n",
      "AUC:0.9377176324111427\n"
     ]
    },
    {
     "data": {
      "image/png": "[encoded data removed]",
      "text/plain": [
       "<Figure size 432x288 with 1 Axes>"
      ]
     },
     "metadata": {
      "needs_background": "light"
     },
     "output_type": "display_data"
    },
    {
     "name": "stdout",
     "output_type": "stream",
     "text": [
      "[[63004  3232]\n",
      " [ 4367  4997]]\n",
      "\n",
      "AdaBoost Classifier\n",
      "Accuracy: 0.8762566137566138\n",
      "Precision: 0.68\n",
      "Recall: 0.0018154634771465185\n",
      "F1 score: 0.0036212589200127804\n",
      "AUC:0.5848544148595914\n"
     ]
    },
    {
     "data": {
      "image/png": "[encoded data removed]",
      "text/plain": [
       "<Figure size 432x288 with 1 Axes>"
      ]
     },
     "metadata": {
      "needs_background": "light"
     },
     "output_type": "display_data"
    },
    {
     "name": "stdout",
     "output_type": "stream",
     "text": [
      "[[66228     8]\n",
      " [ 9347    17]]\n",
      "\n",
      "XGBoost\n",
      "Accuracy: 0.8866402116402117\n",
      "Precision: 0.6491359879789632\n",
      "Recall: 0.1845365228534814\n",
      "F1 score: 0.2873773490769998\n",
      "AUC:0.8776272346440448\n"
     ]
    },
    {
     "data": {
      "image/png": "[encoded data removed]",
      "text/plain": [
       "<Figure size 432x288 with 1 Axes>"
      ]
     },
     "metadata": {
      "needs_background": "light"
     },
     "output_type": "display_data"
    },
    {
     "name": "stdout",
     "output_type": "stream",
     "text": [
      "[[65302   934]\n",
      " [ 7636  1728]]\n"
     ]
    }
   ],
   "source": [
    "createModel(fe,y)"
   ]
  },
  {
   "cell_type": "markdown",
   "id": "851b88d2",
   "metadata": {},
   "source": [
    "# Handling Imbalance "
   ]
  },
  {
   "cell_type": "code",
   "execution_count": 34,
   "id": "f6fe941a",
   "metadata": {},
   "outputs": [],
   "source": [
    "X = fe"
   ]
  },
  {
   "cell_type": "code",
   "execution_count": 35,
   "id": "bc38573e",
   "metadata": {
    "scrolled": false
   },
   "outputs": [
    {
     "name": "stdout",
     "output_type": "stream",
     "text": [
      "\n",
      "Logistic Regression\n",
      "Accuracy: 0.4971502312076567\n",
      "Precision: 0.0\n",
      "Recall: 0.0\n",
      "F1 score: 0.0\n",
      "AUC:0.5021093728460387\n"
     ]
    },
    {
     "name": "stderr",
     "output_type": "stream",
     "text": [
      "/Users/sanjaypenmetsa/opt/anaconda3/lib/python3.8/site-packages/sklearn/metrics/_classification.py:1308: UndefinedMetricWarning: Precision is ill-defined and being set to 0.0 due to no predicted samples. Use `zero_division` parameter to control this behavior.\n",
      "  _warn_prf(average, modifier, msg_start, len(result))\n"
     ]
    },
    {
     "data": {
      "image/png": "[encoded data removed]",
      "text/plain": [
       "<Figure size 432x288 with 1 Axes>"
      ]
     },
     "metadata": {
      "needs_background": "light"
     },
     "output_type": "display_data"
    },
    {
     "name": "stdout",
     "output_type": "stream",
     "text": [
      "[[9246    0]\n",
      " [9352    0]]\n",
      "\n",
      "Naïve Bayes\n",
      "Accuracy: 0.5107000752769115\n",
      "Precision: 0.5183780630105017\n",
      "Recall: 0.3800256629597947\n",
      "F1 score: 0.4385488647581441\n",
      "AUC:0.5119157659002935\n"
     ]
    },
    {
     "data": {
      "image/png": "[encoded data removed]",
      "text/plain": [
       "<Figure size 432x288 with 1 Axes>"
      ]
     },
     "metadata": {
      "needs_background": "light"
     },
     "output_type": "display_data"
    },
    {
     "name": "stdout",
     "output_type": "stream",
     "text": [
      "[[5944 3302]\n",
      " [5798 3554]]\n",
      "\n",
      "Decision Tree\n",
      "Accuracy: 0.8585331756102806\n",
      "Precision: 0.8508195009917527\n",
      "Recall: 0.8714713430282293\n",
      "F1 score: 0.8610216047752364\n",
      "AUC:0.8500527393807916\n"
     ]
    },
    {
     "data": {
      "image/png": "[encoded data removed]",
      "text/plain": [
       "<Figure size 432x288 with 1 Axes>"
      ]
     },
     "metadata": {
      "needs_background": "light"
     },
     "output_type": "display_data"
    },
    {
     "name": "stdout",
     "output_type": "stream",
     "text": [
      "[[7817 1429]\n",
      " [1202 8150]]\n",
      "\n",
      "Random Forest Classifier\n",
      "Accuracy: 0.8465964082159372\n",
      "Precision: 0.878420868755095\n",
      "Recall: 0.8065654405474765\n",
      "F1 score: 0.8409610346173142\n",
      "AUC:0.93353083047773\n"
     ]
    },
    {
     "data": {
      "image/png": "[encoded data removed]",
      "text/plain": [
       "<Figure size 432x288 with 1 Axes>"
      ]
     },
     "metadata": {
      "needs_background": "light"
     },
     "output_type": "display_data"
    },
    {
     "name": "stdout",
     "output_type": "stream",
     "text": [
      "[[8202 1044]\n",
      " [1809 7543]]\n",
      "\n",
      "AdaBoost Classifier\n",
      "Accuracy: 0.557909452629315\n",
      "Precision: 0.5633834417769801\n",
      "Recall: 0.5369974337040205\n",
      "F1 score: 0.5498740829957298\n",
      "AUC:0.5783476039484949\n"
     ]
    },
    {
     "data": {
      "image/png": "[encoded data removed]",
      "text/plain": [
       "<Figure size 432x288 with 1 Axes>"
      ]
     },
     "metadata": {
      "needs_background": "light"
     },
     "output_type": "display_data"
    },
    {
     "name": "stdout",
     "output_type": "stream",
     "text": [
      "[[5354 3892]\n",
      " [4330 5022]]\n",
      "\n",
      "XGBoost\n",
      "Accuracy: 0.8268631035595225\n",
      "Precision: 0.8341325196163906\n",
      "Recall: 0.8184345594525235\n",
      "F1 score: 0.8262089810017271\n",
      "AUC:0.8793195510804663\n"
     ]
    },
    {
     "data": {
      "image/png": "[encoded data removed]",
      "text/plain": [
       "<Figure size 432x288 with 1 Axes>"
      ]
     },
     "metadata": {
      "needs_background": "light"
     },
     "output_type": "display_data"
    },
    {
     "name": "stdout",
     "output_type": "stream",
     "text": [
      "[[7724 1522]\n",
      " [1698 7654]]\n"
     ]
    }
   ],
   "source": [
    "from imblearn.under_sampling import RandomUnderSampler\n",
    "X_res, y_res = RandomUnderSampler().fit_resample(X, y)\n",
    "\n",
    "createModel(X_res, y_res)"
   ]
  },
  {
   "cell_type": "code",
   "execution_count": 36,
   "id": "2d532f12",
   "metadata": {
    "scrolled": false
   },
   "outputs": [
    {
     "name": "stdout",
     "output_type": "stream",
     "text": [
      "\n",
      "Logistic Regression\n",
      "Accuracy: 0.49897815283213803\n",
      "Precision: 0.0\n",
      "Recall: 0.0\n",
      "F1 score: 0.0\n",
      "AUC:0.503035371577146\n"
     ]
    },
    {
     "name": "stderr",
     "output_type": "stream",
     "text": [
      "/Users/sanjaypenmetsa/opt/anaconda3/lib/python3.8/site-packages/sklearn/metrics/_classification.py:1308: UndefinedMetricWarning: Precision is ill-defined and being set to 0.0 due to no predicted samples. Use `zero_division` parameter to control this behavior.\n",
      "  _warn_prf(average, modifier, msg_start, len(result))\n"
     ]
    },
    {
     "data": {
      "image/png": "[encoded data removed]",
      "text/plain": [
       "<Figure size 432x288 with 1 Axes>"
      ]
     },
     "metadata": {
      "needs_background": "light"
     },
     "output_type": "display_data"
    },
    {
     "name": "stdout",
     "output_type": "stream",
     "text": [
      "[[66166     0]\n",
      " [66437     0]]\n",
      "\n",
      "Naïve Bayes\n",
      "Accuracy: 0.5135856654826814\n",
      "Precision: 0.5174746946213665\n",
      "Recall: 0.43168716227403403\n",
      "F1 score: 0.4707040866568193\n",
      "AUC:0.5137287822567547\n"
     ]
    },
    {
     "data": {
      "image/png": "[encoded data removed]",
      "text/plain": [
       "<Figure size 432x288 with 1 Axes>"
      ]
     },
     "metadata": {
      "needs_background": "light"
     },
     "output_type": "display_data"
    },
    {
     "name": "stdout",
     "output_type": "stream",
     "text": [
      "[[39423 26743]\n",
      " [37757 28680]]\n",
      "\n",
      "Decision Tree\n",
      "Accuracy: 0.939797742132531\n",
      "Precision: 0.8934918412407776\n",
      "Recall: 0.9989162665382242\n",
      "F1 score: 0.9432675019365658\n",
      "AUC:0.9468039882508441\n"
     ]
    },
    {
     "data": {
      "image/png": "[encoded data removed]",
      "text/plain": [
       "<Figure size 432x288 with 1 Axes>"
      ]
     },
     "metadata": {
      "needs_background": "light"
     },
     "output_type": "display_data"
    },
    {
     "name": "stdout",
     "output_type": "stream",
     "text": [
      "[[58255  7911]\n",
      " [   72 66365]]\n",
      "\n",
      "Random Forest Classifier\n",
      "Accuracy: 0.9545032917807289\n",
      "Precision: 0.9178703857435386\n",
      "Recall: 0.9985399701973298\n",
      "F1 score: 0.9565073208711512\n",
      "AUC:0.9724858216718613\n"
     ]
    },
    {
     "data": {
      "image/png": "[encoded data removed]",
      "text/plain": [
       "<Figure size 432x288 with 1 Axes>"
      ]
     },
     "metadata": {
      "needs_background": "light"
     },
     "output_type": "display_data"
    },
    {
     "name": "stdout",
     "output_type": "stream",
     "text": [
      "[[60230  5936]\n",
      " [   97 66340]]\n",
      "\n",
      "AdaBoost Classifier\n",
      "Accuracy: 0.5566993205281932\n",
      "Precision: 0.5608484116131904\n",
      "Recall: 0.530939085148336\n",
      "F1 score: 0.5454840680115363\n",
      "AUC:0.585353385732168\n"
     ]
    },
    {
     "data": {
      "image/png": "[encoded data removed]",
      "text/plain": [
       "<Figure size 432x288 with 1 Axes>"
      ]
     },
     "metadata": {
      "needs_background": "light"
     },
     "output_type": "display_data"
    },
    {
     "name": "stdout",
     "output_type": "stream",
     "text": [
      "[[38546 27620]\n",
      " [31163 35274]]\n",
      "\n",
      "XGBoost\n",
      "Accuracy: 0.8573033792598961\n",
      "Precision: 0.8564997524046758\n",
      "Recall: 0.8591297018227795\n",
      "F1 score: 0.8578127113422204\n",
      "AUC:0.9143669470237097\n"
     ]
    },
    {
     "data": {
      "image/png": "[encoded data removed]",
      "text/plain": [
       "<Figure size 432x288 with 1 Axes>"
      ]
     },
     "metadata": {
      "needs_background": "light"
     },
     "output_type": "display_data"
    },
    {
     "name": "stdout",
     "output_type": "stream",
     "text": [
      "[[56603  9563]\n",
      " [ 9359 57078]]\n"
     ]
    }
   ],
   "source": [
    "from imblearn.over_sampling import RandomOverSampler\n",
    "X_res, y_res = RandomOverSampler().fit_resample(X, y)\n",
    "\n",
    "createModel(X_res, y_res)"
   ]
  },
  {
   "cell_type": "code",
   "execution_count": 37,
   "id": "0d4207c3",
   "metadata": {
    "scrolled": false
   },
   "outputs": [
    {
     "name": "stdout",
     "output_type": "stream",
     "text": [
      "\n",
      "Logistic Regression\n",
      "Accuracy: 0.49897815283213803\n",
      "Precision: 0.0\n",
      "Recall: 0.0\n",
      "F1 score: 0.0\n",
      "AUC:0.5031831940604952\n"
     ]
    },
    {
     "name": "stderr",
     "output_type": "stream",
     "text": [
      "/Users/sanjaypenmetsa/opt/anaconda3/lib/python3.8/site-packages/sklearn/metrics/_classification.py:1308: UndefinedMetricWarning: Precision is ill-defined and being set to 0.0 due to no predicted samples. Use `zero_division` parameter to control this behavior.\n",
      "  _warn_prf(average, modifier, msg_start, len(result))\n"
     ]
    },
    {
     "data": {
      "image/png": "[encoded data removed]",
      "text/plain": [
       "<Figure size 432x288 with 1 Axes>"
      ]
     },
     "metadata": {
      "needs_background": "light"
     },
     "output_type": "display_data"
    },
    {
     "name": "stdout",
     "output_type": "stream",
     "text": [
      "[[66166     0]\n",
      " [66437     0]]\n",
      "\n",
      "Naïve Bayes\n",
      "Accuracy: 0.5171376213207846\n",
      "Precision: 0.5125502949944754\n",
      "Recall: 0.7401146951247046\n",
      "F1 score: 0.605662341181615\n",
      "AUC:0.5275350731654918\n"
     ]
    },
    {
     "data": {
      "image/png": "[encoded data removed]",
      "text/plain": [
       "<Figure size 432x288 with 1 Axes>"
      ]
     },
     "metadata": {
      "needs_background": "light"
     },
     "output_type": "display_data"
    },
    {
     "name": "stdout",
     "output_type": "stream",
     "text": [
      "[[19403 46763]\n",
      " [17266 49171]]\n",
      "\n",
      "Decision Tree\n",
      "Accuracy: 0.9024908938711794\n",
      "Precision: 0.8710250045071907\n",
      "Recall: 0.9453617713021358\n",
      "F1 score: 0.9066722485275435\n",
      "AUC:0.8987114284313245\n"
     ]
    },
    {
     "data": {
      "image/png": "[encoded data removed]",
      "text/plain": [
       "<Figure size 432x288 with 1 Axes>"
      ]
     },
     "metadata": {
      "needs_background": "light"
     },
     "output_type": "display_data"
    },
    {
     "name": "stdout",
     "output_type": "stream",
     "text": [
      "[[56866  9300]\n",
      " [ 3630 62807]]\n",
      "\n",
      "Random Forest Classifier\n",
      "Accuracy: 0.9224451935476573\n",
      "Precision: 0.8869685066501275\n",
      "Recall: 0.9686469888766802\n",
      "F1 score: 0.926010130079429\n",
      "AUC:0.9554229209828264\n"
     ]
    },
    {
     "data": {
      "image/png": "[encoded data removed]",
      "text/plain": [
       "<Figure size 432x288 with 1 Axes>"
      ]
     },
     "metadata": {
      "needs_background": "light"
     },
     "output_type": "display_data"
    },
    {
     "name": "stdout",
     "output_type": "stream",
     "text": [
      "[[57965  8201]\n",
      " [ 2083 64354]]\n",
      "\n",
      "AdaBoost Classifier\n",
      "Accuracy: 0.5810200372540592\n",
      "Precision: 0.5765016947245545\n",
      "Recall: 0.6169905323840631\n",
      "F1 score: 0.596059328195434\n",
      "AUC:0.6131288239152153\n"
     ]
    },
    {
     "data": {
      "image/png": "[encoded data removed]",
      "text/plain": [
       "<Figure size 432x288 with 1 Axes>"
      ]
     },
     "metadata": {
      "needs_background": "light"
     },
     "output_type": "display_data"
    },
    {
     "name": "stdout",
     "output_type": "stream",
     "text": [
      "[[36054 30112]\n",
      " [25446 40991]]\n",
      "\n",
      "XGBoost\n",
      "Accuracy: 0.8775065420842666\n",
      "Precision: 0.8555017281432375\n",
      "Recall: 0.909056700332646\n",
      "F1 score: 0.8814665080673998\n",
      "AUC:0.9306914534700144\n"
     ]
    },
    {
     "data": {
      "image/png": "[encoded data removed]",
      "text/plain": [
       "<Figure size 432x288 with 1 Axes>"
      ]
     },
     "metadata": {
      "needs_background": "light"
     },
     "output_type": "display_data"
    },
    {
     "name": "stdout",
     "output_type": "stream",
     "text": [
      "[[55965 10201]\n",
      " [ 6042 60395]]\n"
     ]
    }
   ],
   "source": [
    "from imblearn.over_sampling import SMOTE\n",
    "X_res, y_res = SMOTE().fit_resample(X, y)\n",
    "\n",
    "createModel(X_res, y_res)"
   ]
  },
  {
   "cell_type": "code",
   "execution_count": 38,
   "id": "76ba0d01",
   "metadata": {
    "scrolled": false
   },
   "outputs": [
    {
     "name": "stdout",
     "output_type": "stream",
     "text": [
      "\n",
      "Logistic Regression\n",
      "Accuracy: 0.49778362279039184\n",
      "Precision: 0.0\n",
      "Recall: 0.0\n",
      "F1 score: 0.0\n",
      "AUC:0.5036128831008937\n"
     ]
    },
    {
     "name": "stderr",
     "output_type": "stream",
     "text": [
      "/Users/sanjaypenmetsa/opt/anaconda3/lib/python3.8/site-packages/sklearn/metrics/_classification.py:1308: UndefinedMetricWarning: Precision is ill-defined and being set to 0.0 due to no predicted samples. Use `zero_division` parameter to control this behavior.\n",
      "  _warn_prf(average, modifier, msg_start, len(result))\n"
     ]
    },
    {
     "data": {
      "image/png": "[encoded data removed]",
      "text/plain": [
       "<Figure size 432x288 with 1 Axes>"
      ]
     },
     "metadata": {
      "needs_background": "light"
     },
     "output_type": "display_data"
    },
    {
     "name": "stdout",
     "output_type": "stream",
     "text": [
      "[[64346     0]\n",
      " [64919     0]]\n",
      "\n",
      "Naïve Bayes\n",
      "Accuracy: 0.5205894867133408\n",
      "Precision: 0.5170184270078049\n",
      "Recall: 0.6897826522281613\n",
      "F1 score: 0.5910341778249995\n",
      "AUC:0.5249277241419223\n"
     ]
    },
    {
     "data": {
      "image/png": "[encoded data removed]",
      "text/plain": [
       "<Figure size 432x288 with 1 Axes>"
      ]
     },
     "metadata": {
      "needs_background": "light"
     },
     "output_type": "display_data"
    },
    {
     "name": "stdout",
     "output_type": "stream",
     "text": [
      "[[22514 41832]\n",
      " [20139 44780]]\n",
      "\n",
      "Decision Tree\n",
      "Accuracy: 0.9095269407805671\n",
      "Precision: 0.8775394393371921\n",
      "Recall: 0.9528181272046704\n",
      "F1 score: 0.9136307576417763\n",
      "AUC:0.9082851491127508\n"
     ]
    },
    {
     "data": {
      "image/png": "[encoded data removed]",
      "text/plain": [
       "<Figure size 432x288 with 1 Axes>"
      ]
     },
     "metadata": {
      "needs_background": "light"
     },
     "output_type": "display_data"
    },
    {
     "name": "stdout",
     "output_type": "stream",
     "text": [
      "[[55714  8632]\n",
      " [ 3063 61856]]\n",
      "\n",
      "Random Forest Classifier\n",
      "Accuracy: 0.9259041503887363\n",
      "Precision: 0.8891170142453347\n",
      "Recall: 0.9739213481415302\n",
      "F1 score: 0.929589061236492\n",
      "AUC:0.9564678227946914\n"
     ]
    },
    {
     "data": {
      "image/png": "[encoded data removed]",
      "text/plain": [
       "<Figure size 432x288 with 1 Axes>"
      ]
     },
     "metadata": {
      "needs_background": "light"
     },
     "output_type": "display_data"
    },
    {
     "name": "stdout",
     "output_type": "stream",
     "text": [
      "[[56461  7885]\n",
      " [ 1693 63226]]\n",
      "\n",
      "AdaBoost Classifier\n",
      "Accuracy: 0.5755695663946158\n",
      "Precision: 0.573783002392169\n",
      "Recall: 0.6022427948674502\n",
      "F1 score: 0.5876685355258608\n",
      "AUC:0.6111639474055264\n"
     ]
    },
    {
     "data": {
      "image/png": "[encoded data removed]",
      "text/plain": [
       "<Figure size 432x288 with 1 Axes>"
      ]
     },
     "metadata": {
      "needs_background": "light"
     },
     "output_type": "display_data"
    },
    {
     "name": "stdout",
     "output_type": "stream",
     "text": [
      "[[35304 29042]\n",
      " [25822 39097]]\n",
      "\n",
      "XGBoost\n",
      "Accuracy: 0.8878969558658569\n",
      "Precision: 0.8685179771996492\n",
      "Recall: 0.9153560590890186\n",
      "F1 score: 0.8913221188099506\n",
      "AUC:0.9343224674758023\n"
     ]
    },
    {
     "data": {
      "image/png": "[encoded data removed]",
      "text/plain": [
       "<Figure size 432x288 with 1 Axes>"
      ]
     },
     "metadata": {
      "needs_background": "light"
     },
     "output_type": "display_data"
    },
    {
     "name": "stdout",
     "output_type": "stream",
     "text": [
      "[[55350  8996]\n",
      " [ 5495 59424]]\n"
     ]
    }
   ],
   "source": [
    "from imblearn.combine import SMOTETomek \n",
    "X_res, y_res = SMOTETomek().fit_resample(X, y)\n",
    "\n",
    "createModel(X_res, y_res)"
   ]
  },
  {
   "cell_type": "code",
   "execution_count": null,
   "id": "f8f4a36b",
   "metadata": {},
   "outputs": [],
   "source": []
  }
 ],
 "metadata": {
  "kernelspec": {
   "display_name": "Python 3",
   "language": "python",
   "name": "python3"
  },
  "language_info": {
   "codemirror_mode": {
    "name": "ipython",
    "version": 3
   },
   "file_extension": ".py",
   "mimetype": "text/x-python",
   "name": "python",
   "nbconvert_exporter": "python",
   "pygments_lexer": "ipython3",
   "version": "3.8.8"
  }
 },
 "nbformat": 4,
 "nbformat_minor": 5
}
